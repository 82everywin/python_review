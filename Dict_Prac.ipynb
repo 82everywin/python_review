{
  "nbformat": 4,
  "nbformat_minor": 0,
  "metadata": {
    "colab": {
      "provenance": [],
      "authorship_tag": "ABX9TyO0gO9QpDBp2HArShbLi25q",
      "include_colab_link": true
    },
    "kernelspec": {
      "name": "python3",
      "display_name": "Python 3"
    },
    "language_info": {
      "name": "python"
    }
  },
  "cells": [
    {
      "cell_type": "markdown",
      "metadata": {
        "id": "view-in-github",
        "colab_type": "text"
      },
      "source": [
        "<a href=\"https://colab.research.google.com/github/82everywin/python_review/blob/master/Dict_Prac.ipynb\" target=\"_parent\"><img src=\"https://colab.research.google.com/assets/colab-badge.svg\" alt=\"Open In Colab\"/></a>"
      ]
    },
    {
      "cell_type": "markdown",
      "source": [
        "### 문제\n",
        " - dic3에서 모든 key중 value가 'hogeun'이 있는지 확인하는 프로그램을 작성해보자!\n",
        "  - 지금 현재 hogeun이 있기 때문에, 코드셀을 실행했을 때 ok!있네요!가 출력되도록 하기\n",
        "  - dic3 수정해서 hogeun이 없다면 no! 없네요! 출력되도록 하기"
      ],
      "metadata": {
        "id": "c3gqOG_OcrZ9"
      }
    },
    {
      "cell_type": "code",
      "execution_count": 39,
      "metadata": {
        "colab": {
          "base_uri": "https://localhost:8080/"
        },
        "id": "ewYftMmacj1C",
        "outputId": "fd681a3d-e1ba-4df6-8592-f3904b50ebf0"
      },
      "outputs": [
        {
          "output_type": "stream",
          "name": "stdout",
          "text": [
            "no!없네요!\n",
            "ok\n",
            "no!없네요!\n",
            "no!없네요!\n",
            "no!없네요!\n"
          ]
        }
      ],
      "source": [
        "dic3={'no':1,'userId':'hogeun','name':'류호근','age':22,3:333}\n",
        "\n",
        "for i in dic3 :\n",
        "  print('ok' if dic3[i] == 'hogeun' else 'no!없네요!')"
      ]
    },
    {
      "cell_type": "code",
      "source": [
        "user = {\"name\":\"류호근\", \"hp\":\"010-1111-0000\", \"ssn\":\"0208293148567\"}\n",
        "\n"
      ],
      "metadata": {
        "id": "4q04YS_7mdEY"
      },
      "execution_count": null,
      "outputs": []
    },
    {
      "cell_type": "code",
      "source": [
        "dict = {'1번':'apple','2번':'mango','3번':'orange'}"
      ],
      "metadata": {
        "id": "q67AP25qdiep"
      },
      "execution_count": 1,
      "outputs": []
    },
    {
      "cell_type": "code",
      "source": [
        "print(dict['1번'])\n",
        "print(dict['2번'])\n",
        "print(dict['3번'])"
      ],
      "metadata": {
        "colab": {
          "base_uri": "https://localhost:8080/"
        },
        "id": "W5erW4YJeFbM",
        "outputId": "0e55216c-ef69-42c2-a74d-f22f36227746"
      },
      "execution_count": 3,
      "outputs": [
        {
          "output_type": "stream",
          "name": "stdout",
          "text": [
            "apple\n",
            "mango\n",
            "orange\n"
          ]
        }
      ]
    },
    {
      "cell_type": "code",
      "source": [
        "dict = {'1번':'apple','2번':'mango','3번':'orange',4:'kiwi'}\n",
        "dict"
      ],
      "metadata": {
        "colab": {
          "base_uri": "https://localhost:8080/"
        },
        "id": "Snx8rY-1ekpo",
        "outputId": "f72e6743-f0f4-4e47-a1a8-c15dca982352"
      },
      "execution_count": 4,
      "outputs": [
        {
          "output_type": "execute_result",
          "data": {
            "text/plain": [
              "{'1번': 'apple', '2번': 'mango', '3번': 'orange', 4: 'kiwi'}"
            ]
          },
          "metadata": {},
          "execution_count": 4
        }
      ]
    },
    {
      "cell_type": "code",
      "source": [
        "new_dict={1:'apple'}\n",
        "new_dict"
      ],
      "metadata": {
        "colab": {
          "base_uri": "https://localhost:8080/"
        },
        "id": "kEWHpvFMf3Sw",
        "outputId": "df940223-fd31-4446-b2f0-a2d915f7ac3b"
      },
      "execution_count": 6,
      "outputs": [
        {
          "output_type": "execute_result",
          "data": {
            "text/plain": [
              "{1: 'apple'}"
            ]
          },
          "metadata": {},
          "execution_count": 6
        }
      ]
    },
    {
      "cell_type": "code",
      "source": [
        "new_dict[2]= 'grape'\n",
        "new_dict"
      ],
      "metadata": {
        "colab": {
          "base_uri": "https://localhost:8080/"
        },
        "id": "aIWQBDdgf_Mv",
        "outputId": "5c97f760-cd4b-4f70-b7f8-cb5ea9c4cea8"
      },
      "execution_count": 7,
      "outputs": [
        {
          "output_type": "execute_result",
          "data": {
            "text/plain": [
              "{1: 'apple', 2: 'grape'}"
            ]
          },
          "metadata": {},
          "execution_count": 7
        }
      ]
    },
    {
      "cell_type": "code",
      "source": [
        "new_dict[2] = 'mandarine'\n",
        "new_dict"
      ],
      "metadata": {
        "colab": {
          "base_uri": "https://localhost:8080/"
        },
        "id": "hqF2jFmAgs00",
        "outputId": "76c9941e-601d-4cfa-86d6-6ea14a5414a2"
      },
      "execution_count": 8,
      "outputs": [
        {
          "output_type": "execute_result",
          "data": {
            "text/plain": [
              "{1: 'apple', 2: 'mandarine'}"
            ]
          },
          "metadata": {},
          "execution_count": 8
        }
      ]
    },
    {
      "cell_type": "code",
      "source": [
        "del new_dict[2]\n",
        "new_dict"
      ],
      "metadata": {
        "colab": {
          "base_uri": "https://localhost:8080/"
        },
        "id": "SQd39_ILg_Wz",
        "outputId": "caecf8cd-7305-4eeb-d37d-63673613f478"
      },
      "execution_count": 9,
      "outputs": [
        {
          "output_type": "execute_result",
          "data": {
            "text/plain": [
              "{1: 'apple'}"
            ]
          },
          "metadata": {},
          "execution_count": 9
        }
      ]
    },
    {
      "cell_type": "code",
      "source": [
        "dict={'no':1,'userID':'ddong','name':'홍길동','age': 20, 4:'기타'}"
      ],
      "metadata": {
        "id": "G8kvzmNzhcbB"
      },
      "execution_count": 33,
      "outputs": []
    },
    {
      "cell_type": "code",
      "source": [
        "dict.keys()"
      ],
      "metadata": {
        "colab": {
          "base_uri": "https://localhost:8080/"
        },
        "id": "iSSyoFU0hv9J",
        "outputId": "485a0bd2-79a6-47dc-cdb0-42513a210195"
      },
      "execution_count": 13,
      "outputs": [
        {
          "output_type": "execute_result",
          "data": {
            "text/plain": [
              "dict_keys(['no', 'userID', 'name', 'age', 4])"
            ]
          },
          "metadata": {},
          "execution_count": 13
        }
      ]
    },
    {
      "cell_type": "code",
      "source": [
        "dict.values()"
      ],
      "metadata": {
        "colab": {
          "base_uri": "https://localhost:8080/"
        },
        "id": "XD1w9EVfiqyJ",
        "outputId": "22122da4-fcf4-4ee2-8f2f-15f8c3d4a8d7"
      },
      "execution_count": 20,
      "outputs": [
        {
          "output_type": "execute_result",
          "data": {
            "text/plain": [
              "dict_values([1, 'ddong', '홍길동', 20, '기타'])"
            ]
          },
          "metadata": {},
          "execution_count": 20
        }
      ]
    },
    {
      "cell_type": "code",
      "source": [
        "dict.pop('no')"
      ],
      "metadata": {
        "colab": {
          "base_uri": "https://localhost:8080/"
        },
        "id": "TRmSOTHDivlM",
        "outputId": "28b247b0-22bd-4a36-d1ee-15ce445a058c"
      },
      "execution_count": 22,
      "outputs": [
        {
          "output_type": "execute_result",
          "data": {
            "text/plain": [
              "1"
            ]
          },
          "metadata": {},
          "execution_count": 22
        }
      ]
    },
    {
      "cell_type": "code",
      "source": [
        "dict"
      ],
      "metadata": {
        "colab": {
          "base_uri": "https://localhost:8080/"
        },
        "id": "-rGIZ5hfi0AA",
        "outputId": "45fa8453-0c71-4a84-8af1-a0ca998b151b"
      },
      "execution_count": 23,
      "outputs": [
        {
          "output_type": "execute_result",
          "data": {
            "text/plain": [
              "{'userID': 'ddong', 'name': '홍길동', 'age': 20, 4: '기타'}"
            ]
          },
          "metadata": {},
          "execution_count": 23
        }
      ]
    },
    {
      "cell_type": "code",
      "source": [
        "dict.items()"
      ],
      "metadata": {
        "id": "jtXDf-jIjI2Z"
      },
      "execution_count": 27,
      "outputs": []
    },
    {
      "cell_type": "code",
      "source": [
        "dict.get('age')"
      ],
      "metadata": {
        "colab": {
          "base_uri": "https://localhost:8080/"
        },
        "id": "tCfnH9L-jWSD",
        "outputId": "9327ff84-fb66-4760-b507-c9381ad0427b"
      },
      "execution_count": 29,
      "outputs": [
        {
          "output_type": "execute_result",
          "data": {
            "text/plain": [
              "20"
            ]
          },
          "metadata": {},
          "execution_count": 29
        }
      ]
    },
    {
      "cell_type": "code",
      "source": [
        "dict.get('주소','입력되지 않았습니다.')"
      ],
      "metadata": {
        "colab": {
          "base_uri": "https://localhost:8080/",
          "height": 35
        },
        "id": "O_WMAUMgjjpM",
        "outputId": "20405d40-6021-435b-c4a1-e704ab5614be"
      },
      "execution_count": 30,
      "outputs": [
        {
          "output_type": "execute_result",
          "data": {
            "text/plain": [
              "'입력되지 않았습니다.'"
            ],
            "application/vnd.google.colaboratory.intrinsic+json": {
              "type": "string"
            }
          },
          "metadata": {},
          "execution_count": 30
        }
      ]
    },
    {
      "cell_type": "code",
      "source": [
        "'userID' in dict"
      ],
      "metadata": {
        "colab": {
          "base_uri": "https://localhost:8080/"
        },
        "id": "ksflnexikSdP",
        "outputId": "4521f924-0968-46f5-cba4-c45754ba63a3"
      },
      "execution_count": 31,
      "outputs": [
        {
          "output_type": "execute_result",
          "data": {
            "text/plain": [
              "True"
            ]
          },
          "metadata": {},
          "execution_count": 31
        }
      ]
    },
    {
      "cell_type": "code",
      "source": [
        "'address' in dict\n"
      ],
      "metadata": {
        "colab": {
          "base_uri": "https://localhost:8080/"
        },
        "id": "4q1UxNz0kX2c",
        "outputId": "3cfe4892-8fe3-4bae-8063-02c3f49ca4e4"
      },
      "execution_count": 32,
      "outputs": [
        {
          "output_type": "execute_result",
          "data": {
            "text/plain": [
              "False"
            ]
          },
          "metadata": {},
          "execution_count": 32
        }
      ]
    },
    {
      "cell_type": "code",
      "source": [
        "for i in dict :\n",
        "  print(i)"
      ],
      "metadata": {
        "colab": {
          "base_uri": "https://localhost:8080/"
        },
        "id": "-nwZpPTGlDeK",
        "outputId": "17d34cb4-7711-4c41-83d5-d85030c8a441"
      },
      "execution_count": 34,
      "outputs": [
        {
          "output_type": "stream",
          "name": "stdout",
          "text": [
            "no\n",
            "userID\n",
            "name\n",
            "age\n",
            "4\n"
          ]
        }
      ]
    },
    {
      "cell_type": "code",
      "source": [
        "for i in dict.values():\n",
        "  print(i)"
      ],
      "metadata": {
        "colab": {
          "base_uri": "https://localhost:8080/"
        },
        "id": "qjuAjrM6lP6E",
        "outputId": "b7ed4d23-8d1d-42cd-ce27-ff7a5d2d8091"
      },
      "execution_count": 36,
      "outputs": [
        {
          "output_type": "stream",
          "name": "stdout",
          "text": [
            "1\n",
            "ddong\n",
            "홍길동\n",
            "20\n",
            "기타\n"
          ]
        }
      ]
    },
    {
      "cell_type": "code",
      "source": [
        "for i in dict :\n",
        "  print(dict[i])"
      ],
      "metadata": {
        "colab": {
          "base_uri": "https://localhost:8080/"
        },
        "id": "SjfkBnFWlwX9",
        "outputId": "50339397-d5a5-43ae-d155-0cab0785c70b"
      },
      "execution_count": 37,
      "outputs": [
        {
          "output_type": "stream",
          "name": "stdout",
          "text": [
            "1\n",
            "ddong\n",
            "홍길동\n",
            "20\n",
            "기타\n"
          ]
        }
      ]
    }
  ]
}