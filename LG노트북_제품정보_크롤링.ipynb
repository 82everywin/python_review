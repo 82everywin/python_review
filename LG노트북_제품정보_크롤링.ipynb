{
  "cells": [
    {
      "cell_type": "markdown",
      "metadata": {
        "id": "view-in-github",
        "colab_type": "text"
      },
      "source": [
        "<a href=\"https://colab.research.google.com/github/82everywin/python_review/blob/main/LG%EB%85%B8%ED%8A%B8%EB%B6%81_%EC%A0%9C%ED%92%88%EC%A0%95%EB%B3%B4_%ED%81%AC%EB%A1%A4%EB%A7%81.ipynb\" target=\"_parent\"><img src=\"https://colab.research.google.com/assets/colab-badge.svg\" alt=\"Open In Colab\"/></a>"
      ]
    },
    {
      "cell_type": "markdown",
      "id": "672f9de3-7283-4b07-b8b2-1292223e7792",
      "metadata": {
        "id": "672f9de3-7283-4b07-b8b2-1292223e7792"
      },
      "source": [
        "# LG 노트북 정보 확인\n",
        "- 제품정보 : 제품명, 등록일\n",
        "- 화면크기, 무게, 종류 , 코어종류 , GPU, 램, SSD, 해상도, CPU  "
      ]
    }
  ],
  "metadata": {
    "kernelspec": {
      "display_name": "Python 3 (ipykernel)",
      "language": "python",
      "name": "python3"
    },
    "language_info": {
      "codemirror_mode": {
        "name": "ipython",
        "version": 3
      },
      "file_extension": ".py",
      "mimetype": "text/x-python",
      "name": "python",
      "nbconvert_exporter": "python",
      "pygments_lexer": "ipython3",
      "version": "3.10.11"
    },
    "colab": {
      "provenance": [],
      "include_colab_link": true
    }
  },
  "nbformat": 4,
  "nbformat_minor": 5
}