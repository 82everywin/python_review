{
  "nbformat": 4,
  "nbformat_minor": 0,
  "metadata": {
    "colab": {
      "provenance": [],
      "authorship_tag": "ABX9TyNrfRDr0um+OxdPvq+TJDLZ",
      "include_colab_link": true
    },
    "kernelspec": {
      "name": "python3",
      "display_name": "Python 3"
    },
    "language_info": {
      "name": "python"
    }
  },
  "cells": [
    {
      "cell_type": "markdown",
      "metadata": {
        "id": "view-in-github",
        "colab_type": "text"
      },
      "source": [
        "<a href=\"https://colab.research.google.com/github/82everywin/python_review/blob/main/list.ipynb\" target=\"_parent\"><img src=\"https://colab.research.google.com/assets/colab-badge.svg\" alt=\"Open In Colab\"/></a>"
      ]
    },
    {
      "cell_type": "code",
      "execution_count": 1,
      "metadata": {
        "colab": {
          "base_uri": "https://localhost:8080/"
        },
        "id": "vRfitmlfyPAh",
        "outputId": "9762866f-df64-4f84-9f10-0daf33f3dea9"
      },
      "outputs": [
        {
          "output_type": "stream",
          "name": "stdout",
          "text": [
            "['사과 ', '감', '귤', '배']\n",
            "['한현승', 24, 12.33, -1, True, False, [1, 2, 3]]\n"
          ]
        }
      ],
      "source": [
        "li=['사과 ','감','귤','배']\n",
        "print(li)\n",
        "\n",
        "# 여러가지 데이터를 담은 리스트\n",
        "li = ['한현승',24, 12.33, -1, True, False, [1,2,3] ]\n",
        "print(li)"
      ]
    },
    {
      "cell_type": "code",
      "source": [
        "li1=[1,3,5,7,9]\n",
        "\n",
        "print(li1[2]+li1[1])"
      ],
      "metadata": {
        "colab": {
          "base_uri": "https://localhost:8080/"
        },
        "id": "u9AiwC0l0N50",
        "outputId": "582406d1-1ace-4847-9bdb-ddee3c5f3596"
      },
      "execution_count": 3,
      "outputs": [
        {
          "output_type": "stream",
          "name": "stdout",
          "text": [
            "8\n"
          ]
        }
      ]
    },
    {
      "cell_type": "code",
      "source": [
        "li2 = ['류호근','수원이','하모',['😊','❤️','😘','😍','👍','😁']]\n",
        "\n",
        "print(li2[3][2]+ '알러뷰')"
      ],
      "metadata": {
        "colab": {
          "base_uri": "https://localhost:8080/"
        },
        "id": "uQ-FHuRL3DXs",
        "outputId": "14d69190-0498-48f6-e06e-c15fd8327594"
      },
      "execution_count": 5,
      "outputs": [
        {
          "output_type": "stream",
          "name": "stdout",
          "text": [
            "😘알러뷰\n"
          ]
        }
      ]
    },
    {
      "cell_type": "code",
      "source": [
        "li=[10,20,30,40,50] # 현재 li는 주소(저장공간)을 저장\n",
        "# li_copy=li 라고 한다면 li_copy 는 주소를 가져감\n",
        "\n",
        "# => li_copy 의 주소값 == li 의 주소값 이다. (객체 지향 => 주소값을 참조)\n",
        "\n",
        "# 그래서 li_copy의 값을 바꾸게 된다면, 원래 리스트인 li의 값도 바뀌게 된다.\n",
        "print(li)\n",
        "li_copy= li\n",
        "li_copy[2]='바뀐 30'\n",
        "print(li)\n",
        "print(li_copy)\n"
      ],
      "metadata": {
        "colab": {
          "base_uri": "https://localhost:8080/"
        },
        "id": "gaCwjm_r46Kw",
        "outputId": "76c81efd-2452-49d0-9cf2-d4eefbecfc15"
      },
      "execution_count": 6,
      "outputs": [
        {
          "output_type": "stream",
          "name": "stdout",
          "text": [
            "[10, 20, 30, 40, 50]\n",
            "[10, 20, '바뀐 30', 40, 50]\n",
            "[10, 20, '바뀐 30', 40, 50]\n"
          ]
        }
      ]
    },
    {
      "cell_type": "code",
      "source": [
        "li=[10,20,30]\n",
        "print(10)\n",
        "\n",
        "li[1:2]=['슬라이싱','추가','20']\n",
        "print(li)\n",
        "\n"
      ],
      "metadata": {
        "colab": {
          "base_uri": "https://localhost:8080/"
        },
        "id": "N4yrPvno_8LV",
        "outputId": "75c1bfda-f484-4522-90a8-8af0bd798cb9"
      },
      "execution_count": 9,
      "outputs": [
        {
          "output_type": "stream",
          "name": "stdout",
          "text": [
            "10\n",
            "[10, '슬라이싱', '추가', '20', 30]\n"
          ]
        }
      ]
    }
  ]
}