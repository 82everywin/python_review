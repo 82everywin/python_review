{
  "nbformat": 4,
  "nbformat_minor": 0,
  "metadata": {
    "colab": {
      "provenance": [],
      "authorship_tag": "ABX9TyNZwZ7svkTdrbFoN5XcOAHJ",
      "include_colab_link": true
    },
    "kernelspec": {
      "name": "python3",
      "display_name": "Python 3"
    },
    "language_info": {
      "name": "python"
    }
  },
  "cells": [
    {
      "cell_type": "markdown",
      "metadata": {
        "id": "view-in-github",
        "colab_type": "text"
      },
      "source": [
        "<a href=\"https://colab.research.google.com/github/82everywin/python_review/blob/master/list.ipynb\" target=\"_parent\"><img src=\"https://colab.research.google.com/assets/colab-badge.svg\" alt=\"Open In Colab\"/></a>"
      ]
    },
    {
      "cell_type": "code",
      "execution_count": 1,
      "metadata": {
        "colab": {
          "base_uri": "https://localhost:8080/"
        },
        "id": "vRfitmlfyPAh",
        "outputId": "baee7503-07cc-40f8-a0ec-9027cca29ccb"
      },
      "outputs": [
        {
          "output_type": "stream",
          "name": "stdout",
          "text": [
            "['사과 ', '감', '귤', '배']\n",
            "['한현승', 24, 12.33, -1, True, False, [1, 2, 3]]\n"
          ]
        }
      ],
      "source": [
        "li=['사과 ','감','귤','배']\n",
        "print(li)\n",
        "\n",
        "# 여러가지 데이터를 담은 리스트\n",
        "li = ['한현승',24, 12.33, -1, True, False, [1,2,3] ]\n",
        "print(li)"
      ]
    },
    {
      "cell_type": "code",
      "source": [
        "li1=[1,3,5,7,9]\n",
        "\n",
        "print(li1[2]+li1[1])"
      ],
      "metadata": {
        "colab": {
          "base_uri": "https://localhost:8080/"
        },
        "id": "u9AiwC0l0N50",
        "outputId": "7a30a494-f3e5-42e8-cb87-e28a691b19d7"
      },
      "execution_count": 2,
      "outputs": [
        {
          "output_type": "stream",
          "name": "stdout",
          "text": [
            "8\n"
          ]
        }
      ]
    },
    {
      "cell_type": "code",
      "source": [
        "li2 = ['류호근','수원이','하모',['😊','❤️','😘','😍','👍','😁']]\n",
        "\n",
        "print(li2[3][2]+ '알러뷰')"
      ],
      "metadata": {
        "colab": {
          "base_uri": "https://localhost:8080/"
        },
        "id": "uQ-FHuRL3DXs",
        "outputId": "7b19d5b9-8861-43b5-82c6-db1b5c0b24ed"
      },
      "execution_count": 3,
      "outputs": [
        {
          "output_type": "stream",
          "name": "stdout",
          "text": [
            "😘알러뷰\n"
          ]
        }
      ]
    },
    {
      "cell_type": "code",
      "source": [
        "li=[10,20,30,40,50] # 현재 li는 주소(저장공간)을 저장\n",
        "# li_copy=li 라고 한다면 li_copy 는 주소를 가져감\n",
        "\n",
        "# => li_copy 의 주소값 == li 의 주소값 이다. (객체 지향 => 주소값을 참조)\n",
        "\n",
        "# 그래서 li_copy의 값을 바꾸게 된다면, 원래 리스트인 li의 값도 바뀌게 된다.\n",
        "print(li)\n",
        "li_copy= li\n",
        "li_copy[2]='바뀐 30'\n",
        "print(li)\n",
        "print(li_copy)\n"
      ],
      "metadata": {
        "colab": {
          "base_uri": "https://localhost:8080/"
        },
        "id": "gaCwjm_r46Kw",
        "outputId": "671143db-5ba9-43b5-ed45-ac56b68e8105"
      },
      "execution_count": 4,
      "outputs": [
        {
          "output_type": "stream",
          "name": "stdout",
          "text": [
            "[10, 20, 30, 40, 50]\n",
            "[10, 20, '바뀐 30', 40, 50]\n",
            "[10, 20, '바뀐 30', 40, 50]\n"
          ]
        }
      ]
    },
    {
      "cell_type": "code",
      "source": [
        "li=[10,20,30]\n",
        "print(10)\n",
        "\n",
        "li[1:2]=['슬라이싱','추가','20']\n",
        "print(li)\n",
        "\n"
      ],
      "metadata": {
        "colab": {
          "base_uri": "https://localhost:8080/"
        },
        "id": "N4yrPvno_8LV",
        "outputId": "b766860c-4553-488a-ff07-bf0d65e466ca"
      },
      "execution_count": 5,
      "outputs": [
        {
          "output_type": "stream",
          "name": "stdout",
          "text": [
            "10\n",
            "[10, '슬라이싱', '추가', '20', 30]\n"
          ]
        }
      ]
    },
    {
      "cell_type": "code",
      "source": [
        "li=[100,80,200,430,19,30]\n",
        "print(li)\n",
        "li.sort()\n",
        "print(li)\n",
        "\n",
        "li.sort(reverse=True) # 내림차순\n",
        "print(li)\n",
        "\n",
        "print(li.sort()) # 반환값x => None\n"
      ],
      "metadata": {
        "colab": {
          "base_uri": "https://localhost:8080/"
        },
        "id": "VDEMT5fhme8K",
        "outputId": "efb8241c-f691-4c40-a24c-7c583cad8b50"
      },
      "execution_count": 7,
      "outputs": [
        {
          "output_type": "stream",
          "name": "stdout",
          "text": [
            "[100, 80, 200, 430, 19, 30]\n",
            "[19, 30, 80, 100, 200, 430]\n",
            "[430, 200, 100, 80, 30, 19]\n",
            "None\n"
          ]
        }
      ]
    },
    {
      "cell_type": "code",
      "source": [
        "li = ['Apple','apple','Banana','banana','Orange','orange','Kiwi','kiwi']\n",
        "print(li)\n",
        "\n",
        "sorted(li)\n",
        "print(li)\n",
        "\n",
        "li=sorted(li)\n",
        "print(li)\n",
        "\n",
        "print(sorted(li))"
      ],
      "metadata": {
        "colab": {
          "base_uri": "https://localhost:8080/"
        },
        "id": "OGh4Ce6Vmuzy",
        "outputId": "0a6238ba-fc11-4718-d477-8266a459245e"
      },
      "execution_count": 11,
      "outputs": [
        {
          "output_type": "stream",
          "name": "stdout",
          "text": [
            "['Apple', 'apple', 'Banana', 'banana', 'Orange', 'orange', 'Kiwi', 'kiwi']\n",
            "['Apple', 'apple', 'Banana', 'banana', 'Orange', 'orange', 'Kiwi', 'kiwi']\n",
            "['Apple', 'Banana', 'Kiwi', 'Orange', 'apple', 'banana', 'kiwi', 'orange']\n",
            "['Apple', 'Banana', 'Kiwi', 'Orange', 'apple', 'banana', 'kiwi', 'orange']\n"
          ]
        }
      ]
    },
    {
      "cell_type": "code",
      "source": [
        "li = ['Apple','apple','Banana','banana','Orange','orange','Kiwi','kiwi']\n",
        "\n",
        "# 정렬된 리스트를 계속 사용하고 싶다면 저장공간(변수)에 저장한다.\n",
        "result = sorted(li,reverse=True)\n",
        "print(result)"
      ],
      "metadata": {
        "colab": {
          "base_uri": "https://localhost:8080/"
        },
        "id": "GVFs3SDhoj3_",
        "outputId": "53cfad0a-4a74-4e7e-b2ce-3c515116bc05"
      },
      "execution_count": 13,
      "outputs": [
        {
          "output_type": "stream",
          "name": "stdout",
          "text": [
            "['orange', 'kiwi', 'banana', 'apple', 'Orange', 'Kiwi', 'Banana', 'Apple']\n"
          ]
        }
      ]
    },
    {
      "cell_type": "code",
      "source": [
        "li19=[10,20,30,50,20,40,30,20]\n",
        "\n",
        "# count() : 리스트에 포함된 특정 데이터의 갯수를 반환\n",
        "print(li19.count(20))\n",
        "print(li19.count(555))\n",
        "\n",
        "a= li19.count(20)\n",
        "b=li19.count(555)\n",
        "print('a + b = ',a+b)"
      ],
      "metadata": {
        "colab": {
          "base_uri": "https://localhost:8080/"
        },
        "id": "6CaMs4c_pGzd",
        "outputId": "2c5c3222-30b4-452c-f780-ad051f24f30c"
      },
      "execution_count": 17,
      "outputs": [
        {
          "output_type": "stream",
          "name": "stdout",
          "text": [
            "3\n",
            "0\n",
            "a + b =  3\n"
          ]
        }
      ]
    },
    {
      "cell_type": "code",
      "source": [
        "li=[10,20,30,50,20,40,30,20]\n",
        "\n",
        "print(len(li))\n",
        "\n",
        "length=len(li)\n",
        "print(length)"
      ],
      "metadata": {
        "colab": {
          "base_uri": "https://localhost:8080/"
        },
        "id": "yfG6hwGKqEDp",
        "outputId": "41d1f3ed-7e16-4b2c-d40e-263c40d686e4"
      },
      "execution_count": 20,
      "outputs": [
        {
          "output_type": "stream",
          "name": "stdout",
          "text": [
            "8\n",
            "8\n"
          ]
        }
      ]
    }
  ]
}