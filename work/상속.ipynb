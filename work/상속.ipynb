{
 "cells": [
  {
   "cell_type": "code",
   "execution_count": 4,
   "id": "d808305e",
   "metadata": {},
   "outputs": [
    {
     "name": "stdout",
     "output_type": "stream",
     "text": [
      "해리포터가 감자를 먹습니다.\n",
      "해리포터은 호그와트에서 공부합니다.\n"
     ]
    }
   ],
   "source": [
    "# 상속\n",
    "# 부모, 조상으로부터 재산의 전부 혹은 일부를 물려받는 것.\n",
    "# 파이썬에서도 부모클래스와 자식클래스 관계를 설정하여 부모클래스의 변수, 함수를 \n",
    "# 그대로 물려받아서 사용할 수 있습니다.\n",
    "\n",
    "class Person:\n",
    "    def __init__(self,name):\n",
    "        self.name=name\n",
    "        \n",
    "    def eat(self,food):\n",
    "        print(self.name +'가 '+food+'를 먹습니다.')\n",
    "        \n",
    "class Student(Person): # 상속 \n",
    "    def __init__(self,name,school):\n",
    "        super().__init__(name)\n",
    "        self.school=school\n",
    "        \n",
    "    def study(self):\n",
    "        print(f'{self.name}은 {self.school}에서 공부합니다.')\n",
    "    \n",
    "potter = Student('해리포터','호그와트')\n",
    "potter.eat('감자')\n",
    "potter.study()"
   ]
  }
 ],
 "metadata": {
  "kernelspec": {
   "display_name": "Python 3 (ipykernel)",
   "language": "python",
   "name": "python3"
  },
  "language_info": {
   "codemirror_mode": {
    "name": "ipython",
    "version": 3
   },
   "file_extension": ".py",
   "mimetype": "text/x-python",
   "name": "python",
   "nbconvert_exporter": "python",
   "pygments_lexer": "ipython3",
   "version": "3.10.9"
  }
 },
 "nbformat": 4,
 "nbformat_minor": 5
}
