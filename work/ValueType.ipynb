{
 "cells": [
  {
   "cell_type": "code",
   "execution_count": 18,
   "id": "da16c142",
   "metadata": {},
   "outputs": [
    {
     "name": "stdout",
     "output_type": "stream",
     "text": [
      "\n",
      "3.14\n",
      "True\n",
      "<class 'int'>\n",
      "<class 'str'>\n",
      "<class 'str'>\n",
      "한현승\n"
     ]
    }
   ],
   "source": [
    "#주석 : 코드옆에 개발자의 의견이나 설명ㅇ르 달때 사용(인프리터가 읽지 못함)\n",
    "\n",
    "print() #출력함수 \n",
    "\n",
    "print(3.14)\n",
    "\n",
    "print(True)\n",
    "\n",
    "print(type(100))\n",
    "\n",
    "ch=\"a\"\n",
    "print(type(ch))\n",
    "\n",
    "ch='a'\n",
    "print(type(ch))\n",
    "\n",
    "print(\"한현승\") # 문자열 데이터는 반드시 따옴표에 감싸줘야 한다. "
   ]
  },
  {
   "cell_type": "code",
   "execution_count": 29,
   "id": "0d55423a",
   "metadata": {},
   "outputs": [
    {
     "name": "stdout",
     "output_type": "stream",
     "text": [
      "A\n",
      "outback\n",
      "outback\n",
      "outback\n"
     ]
    }
   ],
   "source": [
    "#변수\n",
    "# 변수는 어떤 데이터를 저장하고자 할 때 사용하는 메모리 저장소\n",
    "# 데이터 -> 물, 변수 ->컵 \n",
    "\n",
    "ch = \"A\"\n",
    "\n",
    "print(ch)\n",
    "\n",
    "#변수 생성방법\n",
    "# 변수명=데이터\n",
    "\n",
    "ch=\"outback\"\n",
    "print(ch)\n",
    "\n",
    "ch='outback'\n",
    "print(ch)\n",
    "\n",
    "#변수명 명명 규칙\n",
    "''' \n",
    "1. 영문, 숫자, 밑줄(_)로만 구성된다.\n",
    "2. 특수문자(!@$%^&*())를 사용할 수 없다.\n",
    "3. 대문자 소문자를 구별한다.\n",
    "4. 변수명의 첫글자는 숫자를 사용할 수없다. \n",
    "5. 이미 있는 키워드(print,if, for)는 사용할 수 없다. \n",
    "6. 한글로 변수명이 되기는 하지만 사용하지 않는 걸 권장...\n",
    "7. 변수명은 웬만하면 의미있는 걸로 짓기..\n",
    "\n",
    "'''\n",
    "\n",
    "print(ch)"
   ]
  },
  {
   "cell_type": "code",
   "execution_count": 32,
   "id": "a9d0a721",
   "metadata": {},
   "outputs": [
    {
     "name": "stdout",
     "output_type": "stream",
     "text": [
      "이름 : 한현승\n",
      "나이 : 24\n",
      "몸무게 : 56\n",
      "주소 : 서울\n"
     ]
    }
   ],
   "source": [
    "#이름,나이,몸무게,주소와 같은 간단한 개인정보를 \n",
    "#변수에 저장하고 출력하는 코드 작성하기\n",
    "\n",
    "name=\"한현승\"\n",
    "age=\"24\"\n",
    "weight=\"56\"\n",
    "address=\"서울\"\n",
    "\n",
    "print(\"이름 : \"+name)\n",
    "print(\"나이 : \"+ age)\n",
    "print(\"몸무게 : \"+ weight)\n",
    "print(\"주소 : \"+ address)\n"
   ]
  },
  {
   "cell_type": "code",
   "execution_count": null,
   "id": "669994f7",
   "metadata": {},
   "outputs": [],
   "source": []
  }
 ],
 "metadata": {
  "kernelspec": {
   "display_name": "Python 3 (ipykernel)",
   "language": "python",
   "name": "python3"
  },
  "language_info": {
   "codemirror_mode": {
    "name": "ipython",
    "version": 3
   },
   "file_extension": ".py",
   "mimetype": "text/x-python",
   "name": "python",
   "nbconvert_exporter": "python",
   "pygments_lexer": "ipython3",
   "version": "3.10.9"
  }
 },
 "nbformat": 4,
 "nbformat_minor": 5
}
