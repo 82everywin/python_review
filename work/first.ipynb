{
 "cells": [
  {
   "cell_type": "code",
   "execution_count": 2,
   "id": "7e3cc916",
   "metadata": {},
   "outputs": [
    {
     "name": "stdout",
     "output_type": "stream",
     "text": [
      "hello\n"
     ]
    }
   ],
   "source": [
    "print(\"hello\")"
   ]
  },
  {
   "cell_type": "markdown",
   "id": "cc1f686f",
   "metadata": {},
   "source": [
    "# 마크다운 글자크기1\n",
    "## 마크다운 글자크기2\n",
    "### 마크다운 글자크기3\n",
    "#### 마크다운 글자크기4\n",
    "\n",
    "*이탤릭 체*: 이탤릭체로 표시 <br>\n",
    "**볼드**: 두껍게 표시 <br>\n",
    "- 목차 \n",
    "    - 하위목차\n",
    "        - 하위하위목차\n",
    "        - 하위하위목차2\n",
    "        - 하위하위목차3\n",
    "    - 하위목차2\n",
    "    - 하위목차3\n",
    "- 목차2\n",
    "- 목차3\n",
    "\n",
    "1. 순서1\n",
    "    1. 순서1\n",
    "    2. 순서2\n",
    "    3. 순서3 <br>\n",
    "            1. 하위순서1 <br>\n",
    "            2. 하위순서2 <br>\n",
    "            3. 하위순서3 <br>\n",
    "2. 순서2 \n",
    "3. 순서3\n",
    "4. 순서4\n",
    "\n",
    "> 인용구를 작성합니다. \n",
    "\n",
    "$ x = y+10 $ : 수식은 $로 작성한다.\n",
    "\n",
    "[네이버](https://www.naver.com)\n",
    "\n",
    "|속성1|속성2|\n",
    "|---|---|\n",
    "|값1|값2|\n"
   ]
  }
 ],
 "metadata": {
  "kernelspec": {
   "display_name": "Python 3 (ipykernel)",
   "language": "python",
   "name": "python3"
  },
  "language_info": {
   "codemirror_mode": {
    "name": "ipython",
    "version": 3
   },
   "file_extension": ".py",
   "mimetype": "text/x-python",
   "name": "python",
   "nbconvert_exporter": "python",
   "pygments_lexer": "ipython3",
   "version": "3.10.9"
  }
 },
 "nbformat": 4,
 "nbformat_minor": 5
}
