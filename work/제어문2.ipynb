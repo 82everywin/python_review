{
 "cells": [
  {
   "cell_type": "markdown",
   "id": "b189ca0a",
   "metadata": {},
   "source": [
    "# 반복문의 종류\n",
    "- while,for"
   ]
  },
  {
   "cell_type": "code",
   "execution_count": null,
   "id": "676a7fc5",
   "metadata": {},
   "outputs": [],
   "source": [
    "# while\n",
    "# 특정 조건을 만족하는 동안 반복해서 수행해야 하는 코드를 작성할 때 사용\n",
    "\n",
    "'''\n",
    "while 조건식 : \n",
    "    조건식이 참일 동안 반복실행할 명령 \n",
    "'''\n",
    "\n",
    "while True:\n",
    "    print('Hello Python')\n"
   ]
  },
  {
   "cell_type": "code",
   "execution_count": 2,
   "id": "6631da4e",
   "metadata": {},
   "outputs": [
    {
     "name": "stdout",
     "output_type": "stream",
     "text": [
      "1 2 3 4 5 6 7 8 9 10 "
     ]
    }
   ],
   "source": [
    "n=1\n",
    "\n",
    "while n<=10:\n",
    "    print(n,end=' ')\n",
    "    n+=1"
   ]
  }
 ],
 "metadata": {
  "kernelspec": {
   "display_name": "Python 3 (ipykernel)",
   "language": "python",
   "name": "python3"
  },
  "language_info": {
   "codemirror_mode": {
    "name": "ipython",
    "version": 3
   },
   "file_extension": ".py",
   "mimetype": "text/x-python",
   "name": "python",
   "nbconvert_exporter": "python",
   "pygments_lexer": "ipython3",
   "version": "3.10.9"
  }
 },
 "nbformat": 4,
 "nbformat_minor": 5
}
