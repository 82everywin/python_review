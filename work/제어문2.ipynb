{
 "cells": [
  {
   "cell_type": "markdown",
   "id": "51de738d",
   "metadata": {},
   "source": [
    "# 반복문의 종류\n",
    "- while,for"
   ]
  },
  {
   "cell_type": "code",
   "execution_count": null,
   "id": "ea09cbc7",
   "metadata": {},
   "outputs": [],
   "source": [
    "# while\n",
    "# 특정 조건을 만족하는 동안 반복해서 수행해야 하는 코드를 작성할 때 사용\n",
    "\n",
    "'''\n",
    "while 조건식 : \n",
    "    조건식이 참일 동안 반복실행할 명령 \n",
    "'''\n",
    "\n",
    "while True:\n",
    "    print('Hello Python')\n"
   ]
  },
  {
   "cell_type": "code",
   "execution_count": 2,
   "id": "0b6ddbee",
   "metadata": {},
   "outputs": [
    {
     "name": "stdout",
     "output_type": "stream",
     "text": [
      "1 2 3 4 5 6 7 8 9 10 "
     ]
    }
   ],
   "source": [
    "n=1\n",
    "\n",
    "while n<=10:\n",
    "    print(n,end=' ')\n",
    "    n+=1"
   ]
  },
  {
   "cell_type": "code",
   "execution_count": 8,
   "id": "d01fc2be",
   "metadata": {},
   "outputs": [
    {
     "name": "stdout",
     "output_type": "stream",
     "text": [
      "10 9 8 7 6 5 4 3 2 1 정수를 입력하세요(종료는 0입니다.)1\n",
      "정수를 입력하세요(종료는 0입니다.)2\n",
      "정수를 입력하세요(종료는 0입니다.)3\n",
      "정수를 입력하세요(종료는 0입니다.)4\n",
      "정수를 입력하세요(종료는 0입니다.)5\n",
      "정수를 입력하세요(종료는 0입니다.)6\n",
      "정수를 입력하세요(종료는 0입니다.)45\n",
      "정수를 입력하세요(종료는 0입니다.)0\n",
      "[1, 2, 3, 4, 5, 6, 45]\n"
     ]
    }
   ],
   "source": [
    "#10~1까지 거꾸로 출력하기\n",
    "\n",
    "i=10\n",
    "\n",
    "while i>=1:\n",
    "    print(i,end=' ')\n",
    "    i-=1\n",
    "    \n",
    "# while문이 필요한 경우 \n",
    "# 내가 정확히 몇번을 반복할지 잘 모를 경우에도 사용할 수 있다. \n",
    "\n",
    "my_list=[]\n",
    "n=int(input('정수를 입력하세요(종료는 0입니다.)'))\n",
    "\n",
    "while n!=0:\n",
    "    my_list.append(n)\n",
    "    n=int(input('정수를 입력하세요(종료는 0입니다.)'))\n",
    "\n",
    "print(my_list)"
   ]
  },
  {
   "cell_type": "code",
   "execution_count": 14,
   "id": "ce838c6b",
   "metadata": {},
   "outputs": [
    {
     "name": "stdout",
     "output_type": "stream",
     "text": [
      "============1일=============\n",
      "1일 1교시 입니다.\n",
      "1일 2교시 입니다.\n",
      "1일 3교시 입니다.\n",
      "============2일=============\n",
      "2일 1교시 입니다.\n",
      "2일 2교시 입니다.\n",
      "2일 3교시 입니다.\n",
      "============3일=============\n",
      "3일 1교시 입니다.\n",
      "3일 2교시 입니다.\n",
      "3일 3교시 입니다.\n",
      "============4일=============\n",
      "4일 1교시 입니다.\n",
      "4일 2교시 입니다.\n",
      "4일 3교시 입니다.\n",
      "============5일=============\n",
      "5일 1교시 입니다.\n",
      "5일 2교시 입니다.\n",
      "5일 3교시 입니다.\n"
     ]
    }
   ],
   "source": [
    "# while문의 중첩\n",
    "# 반복을 처리해야 하는 대상이 2개 이상이면 while문의 중첩이 필요하다. \n",
    "'''\n",
    "while True:\n",
    "    while True:\n",
    "        while True:\n",
    "'''\n",
    "# 거의 2중첩 까지만 사용한다.\n",
    "\n",
    "\n",
    "# 5일동안 하루에 3시간씩 수업을 한다.\n",
    "# 매시간마다 1일 1교시 입니다. ~5일 3교시 입니다. 라는 메세지를 출력하려고 한다.\n",
    "\n",
    "day=1\n",
    "\n",
    "\n",
    "while day<=5:\n",
    "    time=1\n",
    "    print(f'============{day}일=============')\n",
    "    while time<=3:\n",
    "        print(f'{day}일 {time}교시 입니다.')\n",
    "        time+=1\n",
    "    day+=1"
   ]
  },
  {
   "cell_type": "code",
   "execution_count": 21,
   "id": "c20c36c9",
   "metadata": {},
   "outputs": [
    {
     "name": "stdout",
     "output_type": "stream",
     "text": [
      "========== 2단 ==========\n",
      "     2 × 1 = 2\n",
      "     2 × 2 = 4\n",
      "     2 × 3 = 6\n",
      "     2 × 4 = 8\n",
      "     2 × 5 = 10\n",
      "     2 × 6 = 12\n",
      "     2 × 7 = 14\n",
      "     2 × 8 = 16\n",
      "     2 × 9 = 18\n",
      "========== 3단 ==========\n",
      "     3 × 1 = 3\n",
      "     3 × 2 = 6\n",
      "     3 × 3 = 9\n",
      "     3 × 4 = 12\n",
      "     3 × 5 = 15\n",
      "     3 × 6 = 18\n",
      "     3 × 7 = 21\n",
      "     3 × 8 = 24\n",
      "     3 × 9 = 27\n",
      "========== 4단 ==========\n",
      "     4 × 1 = 4\n",
      "     4 × 2 = 8\n",
      "     4 × 3 = 12\n",
      "     4 × 4 = 16\n",
      "     4 × 5 = 20\n",
      "     4 × 6 = 24\n",
      "     4 × 7 = 28\n",
      "     4 × 8 = 32\n",
      "     4 × 9 = 36\n",
      "========== 5단 ==========\n",
      "     5 × 1 = 5\n",
      "     5 × 2 = 10\n",
      "     5 × 3 = 15\n",
      "     5 × 4 = 20\n",
      "     5 × 5 = 25\n",
      "     5 × 6 = 30\n",
      "     5 × 7 = 35\n",
      "     5 × 8 = 40\n",
      "     5 × 9 = 45\n",
      "========== 6단 ==========\n",
      "     6 × 1 = 6\n",
      "     6 × 2 = 12\n",
      "     6 × 3 = 18\n",
      "     6 × 4 = 24\n",
      "     6 × 5 = 30\n",
      "     6 × 6 = 36\n",
      "     6 × 7 = 42\n",
      "     6 × 8 = 48\n",
      "     6 × 9 = 54\n",
      "========== 7단 ==========\n",
      "     7 × 1 = 7\n",
      "     7 × 2 = 14\n",
      "     7 × 3 = 21\n",
      "     7 × 4 = 28\n",
      "     7 × 5 = 35\n",
      "     7 × 6 = 42\n",
      "     7 × 7 = 49\n",
      "     7 × 8 = 56\n",
      "     7 × 9 = 63\n",
      "========== 8단 ==========\n",
      "     8 × 1 = 8\n",
      "     8 × 2 = 16\n",
      "     8 × 3 = 24\n",
      "     8 × 4 = 32\n",
      "     8 × 5 = 40\n",
      "     8 × 6 = 48\n",
      "     8 × 7 = 56\n",
      "     8 × 8 = 64\n",
      "     8 × 9 = 72\n",
      "========== 9단 ==========\n",
      "     9 × 1 = 9\n",
      "     9 × 2 = 18\n",
      "     9 × 3 = 27\n",
      "     9 × 4 = 36\n",
      "     9 × 5 = 45\n",
      "     9 × 6 = 54\n",
      "     9 × 7 = 63\n",
      "     9 × 8 = 72\n",
      "     9 × 9 = 81\n"
     ]
    }
   ],
   "source": [
    "# 구구단 \n",
    "\n",
    "dan=2\n",
    "\n",
    "while dan<=9:\n",
    "    n=1\n",
    "    print(f'========== {dan}단 ==========')\n",
    "    while n<=9:\n",
    "        print(f'     {dan} × {n} = {dan*n}')\n",
    "        n+=1\n",
    "    dan+=1"
   ]
  },
  {
   "cell_type": "code",
   "execution_count": 28,
   "id": "4bbe6e6a",
   "metadata": {},
   "outputs": [
    {
     "name": "stdout",
     "output_type": "stream",
     "text": [
      "정수를 입력하세요>>>7\n",
      "hello, 1번 \n",
      "\n",
      "hello, 2번 \n",
      "\n",
      "hello, 3번 \n",
      "\n",
      "hello, 4번 \n",
      "\n",
      "hello, 5번 \n",
      "\n",
      "hello, 6번 \n",
      "\n",
      "hello, 7번 \n",
      "\n"
     ]
    }
   ],
   "source": [
    "# 정수를 입력받고 그 횟수만큼 'hello'를 출력하는 프로그램 구현하기\n",
    "# 0 이하의 값이 입력되면 '잘못된 입력입니다,'라고 출력하기\n",
    "\n",
    "n=int(input('정수를 입력하세요>>>')) # 마지막 횟수\n",
    "\n",
    "i=1\n",
    "if(n>0):\n",
    "        while i<=n:\n",
    "            print(f'hello, {i}번 \\n')\n",
    "            i+=1\n",
    "else:\n",
    "    print(\"잘못된 입력입니다.\")\n"
   ]
  }
 ],
 "metadata": {
  "kernelspec": {
   "display_name": "Python 3 (ipykernel)",
   "language": "python",
   "name": "python3"
  },
  "language_info": {
   "codemirror_mode": {
    "name": "ipython",
    "version": 3
   },
   "file_extension": ".py",
   "mimetype": "text/x-python",
   "name": "python",
   "nbconvert_exporter": "python",
   "pygments_lexer": "ipython3",
   "version": "3.10.9"
  }
 },
 "nbformat": 4,
 "nbformat_minor": 5
}
