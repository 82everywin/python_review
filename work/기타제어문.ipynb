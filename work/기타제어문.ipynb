{
 "cells": [
  {
   "cell_type": "code",
   "execution_count": 1,
   "id": "7a62ffdb",
   "metadata": {},
   "outputs": [
    {
     "name": "stdout",
     "output_type": "stream",
     "text": [
      "1\n",
      "2\n",
      "3\n"
     ]
    }
   ],
   "source": [
    "#1.break\n",
    "# while문이나 for문과 같은 반복문을 강제로 종료하고자 할 때 사용하는 제어문입니다.\n",
    "#반복문 내에서 break를 만나게 되면 반복횟수가 남았더라도 반복문을 빠져나옵니다.\n",
    "\n",
    "n = 1\n",
    "\n",
    "while n<=10:\n",
    "    print(n)\n",
    "    if n % 3 == 0:\n",
    "        break\n",
    "    n+=1"
   ]
  },
  {
   "cell_type": "code",
   "execution_count": 4,
   "id": "c2227afc",
   "metadata": {},
   "outputs": [
    {
     "name": "stdout",
     "output_type": "stream",
     "text": [
      "1\n",
      "3\n",
      "5\n",
      "7\n",
      "9\n"
     ]
    }
   ],
   "source": [
    "#continue\n",
    "#반복문 안에서 continue를 만나게 되면 다시 반복문의 조건식으로 올라간다.\n",
    "\n",
    "for i in range(1,11):\n",
    "    if i % 2 == 0:\n",
    "        continue#건너뛰기\n",
    "    print(i)"
   ]
  },
  {
   "cell_type": "code",
   "execution_count": 5,
   "id": "aea87d98",
   "metadata": {},
   "outputs": [
    {
     "name": "stdout",
     "output_type": "stream",
     "text": [
      "어떤 과일을 저장할까요>>>사과\n",
      "동일한 과일이 있습니다.\n",
      "어떤 과일을 저장할까요>>>감귤\n",
      "동일한 과일이 있습니다.\n",
      "어떤 과일을 저장할까요>>>포도\n",
      "입력이 2번 남았습니다.\n",
      "어떤 과일을 저장할까요>>>포도\n",
      "동일한 과일이 있습니다.\n",
      "어떤 과일을 저장할까요>>>복숭아\n",
      "입력이 1번 남았습니다.\n",
      "어떤 과일을 저장할까요>>>딸기\n",
      "입력이 0번 남았습니다.\n",
      "5개의 과일은 ['사과', '감귤', '포도', '복숭아', '딸기']입니다.\n"
     ]
    }
   ],
   "source": [
    "fruits = ['사과','감귤']\n",
    "\n",
    "count = 3\n",
    "\n",
    "while count > 0:\n",
    "    fruit = input('어떤 과일을 저장할까요>>>')\n",
    "    if fruit in fruits:\n",
    "        print('동일한 과일이 있습니다.')\n",
    "        continue\n",
    "    fruits.append(fruit)\n",
    "    count-=1\n",
    "    print(f'입력이 {count}번 남았습니다.')\n",
    "    \n",
    "print(f'5개의 과일은 {fruits}입니다.')\n"
   ]
  },
  {
   "cell_type": "code",
   "execution_count": 6,
   "id": "b0cf9e0c",
   "metadata": {},
   "outputs": [],
   "source": [
    "#break,continue의 특징\n",
    "#반복문 안에서만 사용이 된다.\n",
    "#기타제어문 밑에는 어떠한 코드도 올 수 없다."
   ]
  },
  {
   "cell_type": "code",
   "execution_count": 7,
   "id": "6aa61056",
   "metadata": {},
   "outputs": [
    {
     "name": "stdout",
     "output_type": "stream",
     "text": [
      "현재 10000원이 있습니다.\n",
      "사용할 금액 입력>>>5000\n",
      "현재 5000원이 있습니다.\n",
      "사용할 금액 입력>>>-5000\n",
      "0이하의 금액은 사용할 수 없습니다.\n",
      "현재 5000원이 있습니다.\n",
      "사용할 금액 입력>>>6000\n",
      "1000원이 부족합니다.\n",
      "현재 5000원이 있습니다.\n",
      "사용할 금액 입력>>>4000\n",
      "현재 1000원이 있습니다.\n",
      "사용할 금액 입력>>>1000\n",
      "현재 0원이 있습니다.\n"
     ]
    }
   ],
   "source": [
    "#현재 10000원을 가지고 있습니다. 얼마를 사용할 것인지 반복해서 입력받아 10000원을\n",
    "#전부 사용하세요. 0이하의 금액은 사용할 수 없으며, 현재 가지고 있는 돈보다\n",
    "#더 큰 금액도 사용할 수 없습니다.\n",
    "'''\n",
    "현재 10000원이 있습니다.\n",
    "사용할 금액 입력>>> 5000  -> money > spend\n",
    "현재 5000원이 있습니다.\n",
    "사용할 금액 입력>>> -5000  -> spend < 0\n",
    "0 이하의 금액은 사용할 수 없습니다.\n",
    "현재 5000원이 있습니다.\n",
    "사용할 금액 입력>>> 6000  -> money < spend\n",
    "1000원이 부족합니다.\n",
    "현재 5000원이 있습니다.\n",
    "사용할 금액 입력>>> 4000\n",
    "현재 1000원이 있습니다.\n",
    "사용할 금액 입력>>> 1000  -> money == spend\n",
    "현재 0원이 있습니다.\n",
    "'''\n",
    "\n",
    "money = 10000\n",
    "\n",
    "while True:\n",
    "    print(f'현재 {money}원이 있습니다.')\n",
    "    spend = int(input('사용할 금액 입력>>>'))\n",
    "    \n",
    "    if spend < 0:\n",
    "        print('0이하의 금액은 사용할 수 없습니다.')\n",
    "    elif spend > money:\n",
    "        print(f'{spend-money}원이 부족합니다.')\n",
    "    elif money > spend:\n",
    "        money -= spend # money = money - spend\n",
    "    elif money == spend:\n",
    "        money -= spend\n",
    "        print(f'현재 {money}원이 있습니다.')\n",
    "        break"
   ]
  }
 ],
 "metadata": {
  "kernelspec": {
   "display_name": "Python 3 (ipykernel)",
   "language": "python",
   "name": "python3"
  },
  "language_info": {
   "codemirror_mode": {
    "name": "ipython",
    "version": 3
   },
   "file_extension": ".py",
   "mimetype": "text/x-python",
   "name": "python",
   "nbconvert_exporter": "python",
   "pygments_lexer": "ipython3",
   "version": "3.10.9"
  }
 },
 "nbformat": 4,
 "nbformat_minor": 5
}
