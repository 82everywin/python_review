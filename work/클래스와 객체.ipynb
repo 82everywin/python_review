{
 "cells": [
  {
   "cell_type": "markdown",
   "id": "6c37504e",
   "metadata": {},
   "source": [
    "# 클래스\n",
    "- 객체를 만드는 도구\n",
    "- 하나의 클래스를 만들어 놓으면 여러 개의 객체를 만들 수 있다. \n",
    "\n",
    "# 객체\n",
    "- 설계도로 이루어진 모든 것"
   ]
  },
  {
   "cell_type": "code",
   "execution_count": 4,
   "id": "463b2dc0",
   "metadata": {},
   "outputs": [
    {
     "name": "stdout",
     "output_type": "stream",
     "text": [
      "<__main__.Person object at 0x0000027643AED420>\n",
      "john\n",
      "15\n",
      "123-123\n",
      "toronto\n"
     ]
    }
   ],
   "source": [
    "# 클래스의 정의\n",
    "'''\n",
    "class 클래스명:\n",
    "    본문 -> 변수, 함수 \n",
    "'''\n",
    "\n",
    "# 객체의 생성\n",
    "'''\n",
    "객체명1 = 클래스명()\n",
    "객체명2 = 클래스명()\n",
    "'''\n",
    "\n",
    "# 클래스에는 변수와 함수만 들어갈 수 있다.\n",
    "\n",
    "class Person:\n",
    "                # self 는 객체 자신\n",
    "    def who_am_i(self,name,age,tel,address):\n",
    "        self.name=name\n",
    "        self.age=age\n",
    "        self.tel=tel\n",
    "        self.address=address\n",
    "        \n",
    "boy=Person()\n",
    "\n",
    "boy.who_am_i('john',15,'123-123','toronto')\n",
    "print(boy)\n",
    "print(boy.name)\n",
    "print(boy.age)\n",
    "print(boy.tel)\n",
    "print(boy.address)"
   ]
  },
  {
   "cell_type": "code",
   "execution_count": 16,
   "id": "a221456f",
   "metadata": {},
   "outputs": [
    {
     "name": "stdout",
     "output_type": "stream",
     "text": [
      "CPU값 => i7\n",
      "i7\n",
      "16GB\n",
      "GTX1060\n",
      "512GB\n",
      "CPU값 => i7\n"
     ]
    }
   ],
   "source": [
    "class Computer:\n",
    "    def set_spec(self,cpu,ram,vga,ssd):\n",
    "        self.cpu=cpu\n",
    "        self.ram=ram\n",
    "        self.vga=vga\n",
    "        self.ssd=ssd\n",
    "    \n",
    "    def hardware_info():\n",
    "        print('self 없음')\n",
    "\n",
    "    def hardware_info(self):\n",
    "        print(f'CPU값 => {self.cpu}')\n",
    "        \n",
    "com=Computer()\n",
    "com.set_spec('i7','16GB','GTX1060','512GB')\n",
    "\n",
    "#Computer().hardware_info();\n",
    "com.hardware_info();\n",
    "\n",
    "print(com.cpu)\n",
    "print(com.ram)\n",
    "print(com.vga)\n",
    "print(com.ssd)\n",
    "\n",
    "com.hardware_info()"
   ]
  },
  {
   "cell_type": "code",
   "execution_count": 9,
   "id": "94ffdcd5",
   "metadata": {},
   "outputs": [
    {
     "name": "stdout",
     "output_type": "stream",
     "text": [
      "1\n",
      "홍길동\n",
      "18\n",
      "한현승\n"
     ]
    }
   ],
   "source": [
    "class Student : \n",
    "    idx=1\n",
    "    name = \"홍길동\"\n",
    "    age = 18\n",
    "    \n",
    "std1=Student()\n",
    "\n",
    "\n",
    "print(std1.idx)\n",
    "print(std1.name)\n",
    "print(std1.age)\n",
    "\n",
    "std1.name=\"한현승\"\n",
    "print(std1.name)"
   ]
  },
  {
   "cell_type": "code",
   "execution_count": 12,
   "id": "a3d4875a",
   "metadata": {},
   "outputs": [
    {
     "name": "stdout",
     "output_type": "stream",
     "text": [
      "수식을 입력하세요>>>1+2\n",
      "수식결과는 3\n"
     ]
    }
   ],
   "source": [
    "class Calculator:\n",
    "    def input_expr(self):\n",
    "        expr=input(\"수식을 입력하세요>>>\")\n",
    "        self.expr=expr\n",
    "        \n",
    "    def calculator(self):\n",
    "        return eval(self.expr)\n",
    "    \n",
    "calc = Calculator() # 인스턴스 생성 ( 새로운 주소값)\n",
    "calc.input_expr() # self= calc의 주소값을 받아옴 즉, 객체(인스턴스)의 주소값에다가 담음\n",
    "print(f'수식결과는 {calc.calculator()}') "
   ]
  }
 ],
 "metadata": {
  "kernelspec": {
   "display_name": "Python 3 (ipykernel)",
   "language": "python",
   "name": "python3"
  },
  "language_info": {
   "codemirror_mode": {
    "name": "ipython",
    "version": 3
   },
   "file_extension": ".py",
   "mimetype": "text/x-python",
   "name": "python",
   "nbconvert_exporter": "python",
   "pygments_lexer": "ipython3",
   "version": "3.10.9"
  }
 },
 "nbformat": 4,
 "nbformat_minor": 5
}
