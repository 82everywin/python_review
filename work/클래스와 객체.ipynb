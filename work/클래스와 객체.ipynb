{
 "cells": [
  {
   "cell_type": "markdown",
   "id": "6c37504e",
   "metadata": {},
   "source": [
    "# 클래스\n",
    "- 객체를 만드는 도구\n",
    "- 하나의 클래스를 만들어 놓으면 여러 개의 객체를 만들 수 있다. \n",
    "\n",
    "# 객체\n",
    "- 설계도로 이루어진 모든 것"
   ]
  },
  {
   "cell_type": "code",
   "execution_count": 4,
   "id": "c1a7eb13",
   "metadata": {},
   "outputs": [
    {
     "name": "stdout",
     "output_type": "stream",
     "text": [
      "<__main__.Person object at 0x0000027643AED420>\n",
      "john\n",
      "15\n",
      "123-123\n",
      "toronto\n"
     ]
    }
   ],
   "source": [
    "# 클래스의 정의\n",
    "'''\n",
    "class 클래스명:\n",
    "    본문 -> 변수, 함수 \n",
    "'''\n",
    "\n",
    "# 객체의 생성\n",
    "'''\n",
    "객체명1 = 클래스명()\n",
    "객체명2 = 클래스명()\n",
    "'''\n",
    "\n",
    "# 클래스에는 변수와 함수만 들어갈 수 있다.\n",
    "\n",
    "class Person:\n",
    "                # self 는 객체 자신\n",
    "    def who_am_i(self,name,age,tel,address):\n",
    "        self.name=name\n",
    "        self.age=age\n",
    "        self.tel=tel\n",
    "        self.address=address\n",
    "        \n",
    "boy=Person()\n",
    "\n",
    "boy.who_am_i('john',15,'123-123','toronto')\n",
    "print(boy)\n",
    "print(boy.name)\n",
    "print(boy.age)\n",
    "print(boy.tel)\n",
    "print(boy.address)"
   ]
  },
  {
   "cell_type": "code",
   "execution_count": 16,
   "id": "42f32258",
   "metadata": {},
   "outputs": [
    {
     "name": "stdout",
     "output_type": "stream",
     "text": [
      "CPU값 => i7\n",
      "i7\n",
      "16GB\n",
      "GTX1060\n",
      "512GB\n",
      "CPU값 => i7\n"
     ]
    }
   ],
   "source": [
    "class Computer:\n",
    "    def set_spec(self,cpu,ram,vga,ssd):\n",
    "        self.cpu=cpu\n",
    "        self.ram=ram\n",
    "        self.vga=vga\n",
    "        self.ssd=ssd\n",
    "    \n",
    "    def hardware_info():\n",
    "        print('self 없음')\n",
    "\n",
    "    def hardware_info(self):\n",
    "        print(f'CPU값 => {self.cpu}')\n",
    "        \n",
    "com=Computer()\n",
    "com.set_spec('i7','16GB','GTX1060','512GB')\n",
    "\n",
    "#Computer().hardware_info();\n",
    "com.hardware_info();\n",
    "\n",
    "print(com.cpu)\n",
    "print(com.ram)\n",
    "print(com.vga)\n",
    "print(com.ssd)\n",
    "\n",
    "com.hardware_info()"
   ]
  },
  {
   "cell_type": "code",
   "execution_count": 9,
   "id": "27d95ab6",
   "metadata": {},
   "outputs": [
    {
     "name": "stdout",
     "output_type": "stream",
     "text": [
      "1\n",
      "홍길동\n",
      "18\n",
      "한현승\n"
     ]
    }
   ],
   "source": [
    "class Student : \n",
    "    idx=1\n",
    "    name = \"홍길동\"\n",
    "    age = 18\n",
    "    \n",
    "std1=Student()\n",
    "\n",
    "\n",
    "print(std1.idx)\n",
    "print(std1.name)\n",
    "print(std1.age)\n",
    "\n",
    "std1.name=\"한현승\"\n",
    "print(std1.name)"
   ]
  },
  {
   "cell_type": "code",
   "execution_count": 12,
   "id": "a7d60e6f",
   "metadata": {},
   "outputs": [
    {
     "name": "stdout",
     "output_type": "stream",
     "text": [
      "수식을 입력하세요>>>1+2\n",
      "수식결과는 3\n"
     ]
    }
   ],
   "source": [
    "class Calculator:\n",
    "    def input_expr(self):\n",
    "        expr=input(\"수식을 입력하세요>>>\")\n",
    "        self.expr=expr\n",
    "        \n",
    "    def calculator(self):\n",
    "        return eval(self.expr)\n",
    "    \n",
    "calc = Calculator() # 인스턴스 생성 ( 새로운 주소값)\n",
    "calc.input_expr() # self= calc의 주소값을 받아옴 즉, 객체(인스턴스)의 주소값에다가 담음\n",
    "print(f'수식결과는 {calc.calculator()}') "
   ]
  },
  {
   "cell_type": "code",
   "execution_count": 24,
   "id": "26532933",
   "metadata": {},
   "outputs": [
    {
     "name": "stdout",
     "output_type": "stream",
     "text": [
      "책 제목 : 파이썬,  책 저자 : 민경태\n",
      "=======================================================\n",
      "책 제목 : 어린왕자,  책 저자 : 생택쥐페리\n",
      "=======================================================\n",
      "2706973847952\n",
      "2707005899472\n",
      "2706973836768\n"
     ]
    }
   ],
   "source": [
    "# 책 제목과 저자 정보를 저장할 수 있는 Book클래스를 생성하세요\n",
    "'''\n",
    "1. 책 제목과 책 저자 정보를 출력하는 print_info() 메서드를 구현하세요\n",
    "2. book1, boo2 객체를 각각 생성하고, 다음과 같은 결과 담기\n",
    "book1.set_info('파이썬','민경태')\n",
    "book2.set_info('어린왕자','생택쥐페리')\n",
    "'''\n",
    "\n",
    "class Book:\n",
    "    def set_info(self,title,author):\n",
    "        self.title=title\n",
    "        self.author=author\n",
    "    def print_info(self):\n",
    "        print(f'책 제목 : {self.title},  책 저자 : {self.author}')\n",
    "        print('=======================================================')\n",
    "      \n",
    "book1=Book()\n",
    "book1.set_info('파이썬','민경태')\n",
    "book1.print_info()\n",
    "\n",
    "book2=Book()\n",
    "book2.set_info('어린왕자','생택쥐페리')\n",
    "book2.print_info()\n",
    "\n",
    "print(id(book1))\n",
    "print(id(book1.title))\n",
    "print(id(book2))"
   ]
  },
  {
   "cell_type": "code",
   "execution_count": 30,
   "id": "97729ad9",
   "metadata": {},
   "outputs": [
    {
     "name": "stdout",
     "output_type": "stream",
     "text": [
      "brown\n",
      "circle\n"
     ]
    }
   ],
   "source": [
    "# 생성자 \n",
    "\n",
    "class Candy:\n",
    "    # __로 시작하는 메서드들은 파이썬에 의해서\n",
    "    # 미리 기능과 역할을 부여받은 메서드를 의미\n",
    "    def  __init__(self,shape,color):\n",
    "        self.shape=shape\n",
    "        self.color=color\n",
    "    \n",
    " \n",
    "'''        \n",
    "satang= Candy() #-> satang 객체가 만들어진다. 클래스명() -> 생성자를 호출\n",
    "# 생성자가 정의되어 있지 않으면 기본 생성자로 호출을 한다.\n",
    "satang.set_info('circle','pink')\n",
    "print(satang.color)\n",
    "print(satang.shape)\n",
    "'''\n",
    "satang=Candy('circle','brown')\n",
    "print(satang.color)\n",
    "print(satang.shape)"
   ]
  },
  {
   "cell_type": "code",
   "execution_count": 32,
   "id": "30cbd2a6",
   "metadata": {},
   "outputs": [
    {
     "name": "stdout",
     "output_type": "stream",
     "text": [
      " 객체가 소멸됩니다.\n"
     ]
    }
   ],
   "source": [
    "# 소멸자\n",
    "# 객체가 소멸될 때 자동으로 호출되는 메서드 \n",
    "\n",
    "# __del__\n",
    "\n",
    "class Sample:\n",
    "    def __del__(self):\n",
    "        print(' 객체가 소멸됩니다.')\n",
    "        \n",
    "sample=Sample()\n",
    "\n",
    "del sample # del 객체명 -> 소멸자의 호출"
   ]
  },
  {
   "cell_type": "code",
   "execution_count": 37,
   "id": "0940ae73",
   "metadata": {},
   "outputs": [
    {
     "name": "stdout",
     "output_type": "stream",
     "text": [
      "한국\n",
      "한국\n"
     ]
    }
   ],
   "source": [
    "# 개개인마다 다른 내용을 갖게 되는 변수 -> 객체변수\n",
    "# 모든 객체가 똑같이 갖고 있는 내용 -> 클래스 변수\n",
    "\n",
    "class Korean:\n",
    "    country='한국' # 클래스 변수\n",
    "    \n",
    "    def __init__(self,name,age,address):\n",
    "        self.name=name\n",
    "        self.age=age\n",
    "        self.address=address\n",
    "        \n",
    "man=Korean('홍길동',30,'서울')\n",
    "# print(Korean.name)\n",
    "print(man.country) #객체 man을 통한 클래스변수 접근\n",
    "print(Korean.country) # 클래스 Korean을 통한 클래스 변수 접근\n",
    "           \n",
    " # 클래스 변수 : 객체가 공유하는 값을 저장 \n",
    " #     - 객체에서 접근 0, 클래스 에서 접근 0\n",
    "           \n",
    "# 객체 변수 : 각 개체마다 다른 값을 저장\n",
    "#    - 객체에서 접근 0, 클래스에서 접근 x\n",
    "    "
   ]
  },
  {
   "cell_type": "code",
   "execution_count": 40,
   "id": "a9eb096c",
   "metadata": {},
   "outputs": [
    {
     "name": "stdout",
     "output_type": "stream",
     "text": [
      "국내여행입니다\n",
      "해외여행입니다\n"
     ]
    }
   ],
   "source": [
    "# 클래스 메서드\n",
    "# 클래스 변수를 사용하는 메서드\n",
    "# 1. 객체 또는 클래스로 호출합니다.\n",
    "# 2. 생성된 객체가 없어도 호출할 수 있습니다.\n",
    "# 3. @classmethod 데코레이터를 표시하고 작성합니다.\n",
    "# 4. 매개변수 self를 사용하지 않고 cls 를 사용합니다. \n",
    "\n",
    "class Korean:\n",
    "    country='한국' # 클래스 변수\n",
    "    \n",
    "    @classmethod # -> 클래스메서드다\n",
    "    def trip(cls,country):\n",
    "        if cls.country==country:\n",
    "            print('국내여행입니다')\n",
    "        else:\n",
    "            print('해외여행입니다')\n",
    "            \n",
    "Korean.trip('한국')\n",
    "Korean.trip('미국')"
   ]
  },
  {
   "cell_type": "code",
   "execution_count": 41,
   "id": "f87a0e2b",
   "metadata": {},
   "outputs": [
    {
     "name": "stdout",
     "output_type": "stream",
     "text": [
      "Imagin your Korea\n"
     ]
    }
   ],
   "source": [
    "# 정적 메서드 \n",
    "# 정적 메서드 역시 self를 사용하지 않기 때문에 객체 변수를 사용할 수 없다. \n",
    "# 객체를 생성하지 않아도 사용이 가능하다는 점에서 클래스 메서드와 비슷하다. \n",
    "# 1. 객체나 클래스명으로 호출이 가능하다.\n",
    "# 2. 생성된 객체가 없어도 호출이 가능하다.\n",
    "# 3. @staticmethod 데코레이터를 표시하고 작성해야 합니다.\n",
    "# 4. 반드시 작성해야 할 매개변수가 따로 없습니다. \n",
    "\n",
    "class Korean:\n",
    "    country='한국' # 클래스 변수\n",
    "    \n",
    "    @staticmethod\n",
    "    def slogan():\n",
    "        print('Imagin your Korea')\n",
    "        \n",
    "Korean.slogan("
   ]
  }
 ],
 "metadata": {
  "kernelspec": {
   "display_name": "Python 3 (ipykernel)",
   "language": "python",
   "name": "python3"
  },
  "language_info": {
   "codemirror_mode": {
    "name": "ipython",
    "version": 3
   },
   "file_extension": ".py",
   "mimetype": "text/x-python",
   "name": "python",
   "nbconvert_exporter": "python",
   "pygments_lexer": "ipython3",
   "version": "3.10.9"
  }
 },
 "nbformat": 4,
 "nbformat_minor": 5
}
