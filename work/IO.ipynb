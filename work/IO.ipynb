{
 "cells": [
  {
   "cell_type": "markdown",
   "id": "9b67feb0",
   "metadata": {},
   "source": [
    "# 기본 입출력\n",
    "## 표준 출력\n",
    "\n",
    "- 파이썬은 이스케이프문자(escape character)을 지원한다.\n",
    "- 확장문자 라는 의미로 대부분의 프로그래밍언어에서 지원하기 때문에 알아두면 도움이 된다.\n",
    "- 이스케이프문자들은 \\로 시작한다. \n",
    "\n"
   ]
  },
  {
   "cell_type": "code",
   "execution_count": 18,
   "id": "d1a38d8c",
   "metadata": {},
   "outputs": [
    {
     "name": "stdout",
     "output_type": "stream",
     "text": [
      "Hello World\n",
      "Hello 'World'\n",
      "Hello \"World\"\n",
      "My name is 'hyeon'\n",
      "age\n",
      "address\n",
      "*\n",
      "**\n",
      "***\n",
      "**\n",
      "*\n",
      "이름\t연락처\n",
      "데이지\t010-1234-3445\n",
      "name\ttel\n"
     ]
    }
   ],
   "source": [
    "print(\"Hello World\")\n",
    "print(\"Hello \\'World\\'\")\n",
    "\n",
    "print('Hello \\\"World\\\"')\n",
    "\n",
    "print('My name is \\'hyeon\\'')\n",
    "\n",
    "print(\"age\\naddress\")\n",
    "\n",
    "print('*\\n**\\n***')\n",
    "print('**\\n*')\n",
    "\n",
    "print(\"이름\\t연락처\")\n",
    "print(\"데이지\\t010-1234-3445\") \n",
    "print(\"name\\ttel\")"
   ]
  },
  {
   "cell_type": "code",
   "execution_count": 22,
   "id": "39bd3387",
   "metadata": {},
   "outputs": [
    {
     "name": "stdout",
     "output_type": "stream",
     "text": [
      "벨이뭘까\u0007뭐지\n",
      "수직탭에대해  \u000b",
      "  알아보아요\n"
     ]
    }
   ],
   "source": [
    "print(\"벨이뭘까\\a뭐지\")\n",
    "print('수직탭에대해  \\v  알아보아요')"
   ]
  },
  {
   "cell_type": "markdown",
   "id": "eca4d72a",
   "metadata": {},
   "source": [
    "## print() 함수 \n",
    "- print() 함수를 정석적으로 작성하면 다음과 같이 써야한다.\n",
    "```\n",
    "print(value..., sep='',end='\\n',file=sys.stdout, flush=False) \n",
    "```"
   ]
  },
  {
   "cell_type": "code",
   "execution_count": 30,
   "id": "5713971e",
   "metadata": {},
   "outputs": [
    {
     "name": "stdout",
     "output_type": "stream",
     "text": [
      "재미있는 파이썬\n",
      "Python,Java,C\n",
      "Python,언어: Java,언어: C\n",
      "영화 타이타닉\n",
      "평점:4.3\n"
     ]
    }
   ],
   "source": [
    "print(\"재미있는\",\"파이썬\") # ,(comma)도 공백으로 분류\n",
    "print(\"Python\",\"Java\",\"C\",sep=',')\n",
    "print(\"Python\",\"Java\",\"C\",sep=',언어: ')\n",
    "print('영화 타이타닉')\n",
    "print('평점',end=':')\n",
    "print('4.3')"
   ]
  },
  {
   "cell_type": "markdown",
   "id": "c1ce22d8",
   "metadata": {},
   "source": [
    "## 형식을 갖춘 문자열 \n",
    "\n",
    "- 형식을 갖춘 문자열이란 %연산자나 format()메서드를 이용해 원하는 형식의 문자열을 만드는 것을 의미\n",
    "\n",
    "- 사용법\n",
    "print('형식문자'%데이터)"
   ]
  },
  {
   "cell_type": "code",
   "execution_count": 45,
   "id": "99b0f929",
   "metadata": {},
   "outputs": [
    {
     "name": "stdout",
     "output_type": "stream",
     "text": [
      "내 이름은 kai입니다.\n",
      "제 키는 162cm입니다\n",
      "제 몸무게는 50.3kg입니다.\n",
      "오늘 날짜 : 2023년도 6월 15일\n"
     ]
    }
   ],
   "source": [
    "# %d : 정수형 형식문자(10진수)\n",
    "# %o : 정수형 형식문자(8진수)\n",
    "# %x : 정수형 형식문자(16진수)\n",
    "# %f : 실수형 형식문자\n",
    "# %s : 문자열 형식문자\n",
    "\n",
    "name='kai'\n",
    "\n",
    "print('내 이름은 %s입니다.'%name)\n",
    "\n",
    "height=162\n",
    "print('제 키는 %dcm입니다'%height)\n",
    "\n",
    "weight=50.3312345\n",
    "print('제 몸무게는 %.1fkg입니다.'%weight)\n",
    "\n",
    "year,month,day=2023,6,15\n",
    "print('오늘 날짜 : %d년도 %d월 %d일'%(year,month,day))"
   ]
  },
  {
   "cell_type": "code",
   "execution_count": 58,
   "id": "256448d1",
   "metadata": {},
   "outputs": [
    {
     "name": "stdout",
     "output_type": "stream",
     "text": [
      "my name is Daisy\n",
      "My name is Daisy. I'm 25years old.\n",
      "Weight : 50\n",
      "you make me happy\n",
      "내년에는 100살이 됩니다.\n"
     ]
    }
   ],
   "source": [
    "# format() 메서드\n",
    "# format() 메서드로 인수나 변수의 값을 표시하고, 해당 값이 표시될 위치를 중괄호로({}) 표시하는 방식\n",
    "\n",
    "print('my name is {}'.format('Daisy'))\n",
    "\n",
    "# 괄호 안에 순번을 넣어서 지정하여 출력할 수도 있다.\n",
    "name=\"Daisy\"\n",
    "age = 25\n",
    "weight=50\n",
    "print('My name is {1}. I\\'m {0}years old.\\nWeight : {2}'.format(age,name,weight))\n",
    "\n",
    "\n",
    "# f-string\n",
    "# 파이썬 3.6버전 이후만 가능한 방법\n",
    "# format()  메서드 방식과 유사하다 보다 가독성이 뛰어나다는 장점이 있디.\n",
    "# 문자열 앞에 f를 붙히고 작성!\n",
    "\n",
    "who='you'\n",
    "how='happy'\n",
    "\n",
    "print(f'{who} make me {how}')\n",
    "\n",
    "# 중괄호 내부에서 함수의 호출이나 간단한 연산 가능\n",
    "age=10\n",
    "print(f'내년에는 {age**2}살이 됩니다.')\n"
   ]
  },
  {
   "cell_type": "markdown",
   "id": "83a8e965",
   "metadata": {},
   "source": [
    " ## 표준 입력 \n",
    " - 키보드(표준입력장치)로부터 입력받을 때 사용\n",
    " \n",
    " ```\n",
    " 변수명 = input('')\n",
    " print( 변수명)\n",
    " ```\n"
   ]
  },
  {
   "cell_type": "code",
   "execution_count": 1,
   "id": "e84f60c4",
   "metadata": {},
   "outputs": [
    {
     "name": "stdout",
     "output_type": "stream",
     "text": [
      "정수를 입력하세요>>>20\n",
      "20\n"
     ]
    }
   ],
   "source": [
    "n=input('정수를 입력하세요>>>');\n",
    "print(n)"
   ]
  },
  {
   "cell_type": "code",
   "execution_count": 2,
   "id": "38f2dd02",
   "metadata": {},
   "outputs": [
    {
     "name": "stdout",
     "output_type": "stream",
     "text": [
      "이름을 입력하세요 >>>한현승\n",
      "나이을 입력하세요>>>29\n",
      "입력된 이름은 한현승입니다\n",
      "입력된 나이는 29살입니다.\n"
     ]
    }
   ],
   "source": [
    "name=input(\"이름을 입력하세요 >>>\")\n",
    "age=input(\"나이을 입력하세요>>>\")\n",
    "\n",
    "print(f'입력된 이름은 {name}입니다')\n",
    "print(f'입력된 나이는 {age}살입니다.')"
   ]
  },
  {
   "cell_type": "code",
   "execution_count": 6,
   "id": "5d850113",
   "metadata": {},
   "outputs": [
    {
     "name": "stdout",
     "output_type": "stream",
     "text": [
      "정수입력>>>>정수 아녀유\n",
      "정수 아녀유1\n"
     ]
    }
   ],
   "source": [
    "# input() 메서드를 통해 입력받는 모든 값은 문자열로 저장이 된다, \n",
    "\n",
    "n= input('정수입력>>>>')\n",
    "\n",
    "# print(n+1)\n",
    "# 위에는 당연히 오류가 생기겠쥬?? \n",
    "'''\n",
    "why?\n",
    "n은 문자열로 저장 근데 정수 1을 어떻게 더합니까\n",
    "만약 문자열 1이라면 가능 \n",
    "'''\n",
    "print(n+'1')"
   ]
  },
  {
   "cell_type": "code",
   "execution_count": 7,
   "id": "0adef525",
   "metadata": {},
   "outputs": [
    {
     "name": "stdout",
     "output_type": "stream",
     "text": [
      "입력해보세요>>> int : 3\n",
      "3\n",
      "입력해보세요>>> str :문자3\n",
      "문자3\n",
      "입력해보세요>>> float :3\n",
      "3.0\n"
     ]
    }
   ],
   "source": [
    "# 그래서 형변환이 생긴거임!\n",
    "\n",
    "n=input(\"입력해보세요>>> int : \")\n",
    "\n",
    "print(int(n))\n",
    "\n",
    "n=input(\"입력해보세요>>> str :\")\n",
    "\n",
    "print(str(n))\n",
    "\n",
    "n=input(\"입력해보세요>>> float :\")\n",
    "\n",
    "print(float(n))"
   ]
  },
  {
   "cell_type": "markdown",
   "id": "37620e72",
   "metadata": {},
   "source": [
    "#### a,b= input('값을 입력하세요:').split()\n",
    "\n",
    "print(a)\n",
    "print(b)\n",
    "\n",
    "a,b = map(float, input('값을 입력하세요').split())\n",
    "\n",
    "print(a)\n",
    "print(b)\n",
    "\n"
   ]
  },
  {
   "cell_type": "code",
   "execution_count": 35,
   "id": "836c1a1e",
   "metadata": {},
   "outputs": [
    {
     "name": "stdout",
     "output_type": "stream",
     "text": [
      "첫번째 실수를 입력하세요 >>>1.23\n",
      "두번째 실수를 입력하세요 >>>2.34\n",
      "1.23과 2.34의 합계는 3.57입니다.\n"
     ]
    }
   ],
   "source": [
    "#1. 사용자로부터 2개의 실수를 입력받아 합계를 구하는 프로그램을 구현하세요.\n",
    "\n",
    "'''\n",
    "실행예\n",
    "첫번째 실수를 입력하세요 >>> 1.23\n",
    "두번째 실수를 입력하세요 >>> 2.34\n",
    "1.23.과 2.34의 합계는 3.57입니다.\n",
    "'''\n",
    "\n",
    "s1=float(input(\"첫번째 실수를 입력하세요 >>>\"))\n",
    "s2=float(input(\"두번째 실수를 입력하세요 >>>\"))\n",
    "\n",
    "print(f'{s1}과 {s2}의 합계는 {(s1+s2):.2f}입니다.')"
   ]
  },
  {
   "cell_type": "code",
   "execution_count": null,
   "id": "6878751f",
   "metadata": {},
   "outputs": [],
   "source": []
  }
 ],
 "metadata": {
  "kernelspec": {
   "display_name": "Python 3 (ipykernel)",
   "language": "python",
   "name": "python3"
  },
  "language_info": {
   "codemirror_mode": {
    "name": "ipython",
    "version": 3
   },
   "file_extension": ".py",
   "mimetype": "text/x-python",
   "name": "python",
   "nbconvert_exporter": "python",
   "pygments_lexer": "ipython3",
   "version": "3.10.9"
  }
 },
 "nbformat": 4,
 "nbformat_minor": 5
}
