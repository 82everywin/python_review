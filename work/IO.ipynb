{
 "cells": [
  {
   "cell_type": "markdown",
   "id": "4ec2ca11",
   "metadata": {},
   "source": [
    "# 기본 입출력\n",
    "## 표준 출력\n",
    "\n",
    "- 파이썬은 이스케이프문자(escape character)을 지원한다.\n",
    "- 확장문자 라는 의미로 대부분의 프로그래밍언어에서 지원하기 때문에 알아두면 도움이 된다.\n",
    "- 이스케이프문자들은 \\로 시작한다. \n",
    "\n"
   ]
  },
  {
   "cell_type": "code",
   "execution_count": 18,
   "id": "2398e20c",
   "metadata": {},
   "outputs": [
    {
     "name": "stdout",
     "output_type": "stream",
     "text": [
      "Hello World\n",
      "Hello 'World'\n",
      "Hello \"World\"\n",
      "My name is 'hyeon'\n",
      "age\n",
      "address\n",
      "*\n",
      "**\n",
      "***\n",
      "**\n",
      "*\n",
      "이름\t연락처\n",
      "데이지\t010-1234-3445\n",
      "name\ttel\n"
     ]
    }
   ],
   "source": [
    "print(\"Hello World\")\n",
    "print(\"Hello \\'World\\'\")\n",
    "\n",
    "print('Hello \\\"World\\\"')\n",
    "\n",
    "print('My name is \\'hyeon\\'')\n",
    "\n",
    "print(\"age\\naddress\")\n",
    "\n",
    "print('*\\n**\\n***')\n",
    "print('**\\n*')\n",
    "\n",
    "print(\"이름\\t연락처\")\n",
    "print(\"데이지\\t010-1234-3445\") \n",
    "print(\"name\\ttel\")"
   ]
  },
  {
   "cell_type": "code",
   "execution_count": 22,
   "id": "6b6501f5",
   "metadata": {},
   "outputs": [
    {
     "name": "stdout",
     "output_type": "stream",
     "text": [
      "벨이뭘까\u0007뭐지\n",
      "수직탭에대해  \u000b",
      "  알아보아요\n"
     ]
    }
   ],
   "source": [
    "print(\"벨이뭘까\\a뭐지\")\n",
    "print('수직탭에대해  \\v  알아보아요')"
   ]
  },
  {
   "cell_type": "markdown",
   "id": "176a199b",
   "metadata": {},
   "source": [
    "## print() 함수 \n",
    "- print() 함수를 정석적으로 작성하면 다음과 같이 써야한다.\n",
    "```\n",
    "print(value..., sep='',end='\\n',file=sys.stdout, flush=False) \n",
    "```"
   ]
  },
  {
   "cell_type": "code",
   "execution_count": 30,
   "id": "375be7da",
   "metadata": {},
   "outputs": [
    {
     "name": "stdout",
     "output_type": "stream",
     "text": [
      "재미있는 파이썬\n",
      "Python,Java,C\n",
      "Python,언어: Java,언어: C\n",
      "영화 타이타닉\n",
      "평점:4.3\n"
     ]
    }
   ],
   "source": [
    "print(\"재미있는\",\"파이썬\") # ,(comma)도 공백으로 분류\n",
    "print(\"Python\",\"Java\",\"C\",sep=',')\n",
    "print(\"Python\",\"Java\",\"C\",sep=',언어: ')\n",
    "print('영화 타이타닉')\n",
    "print('평점',end=':')\n",
    "print('4.3')"
   ]
  },
  {
   "cell_type": "markdown",
   "id": "293b3d26",
   "metadata": {},
   "source": [
    "## 형식을 갖춘 문자열 \n",
    "\n",
    "- 형식을 갖춘 문자열이란 %연산자나 format()메서드를 이용해 원하는 형식의 문자열을 만드는 것을 의미\n",
    "\n",
    "- 사용법\n",
    "print('형식문자'%데이터)"
   ]
  },
  {
   "cell_type": "code",
   "execution_count": 45,
   "id": "21ca9e20",
   "metadata": {},
   "outputs": [
    {
     "name": "stdout",
     "output_type": "stream",
     "text": [
      "내 이름은 kai입니다.\n",
      "제 키는 162cm입니다\n",
      "제 몸무게는 50.3kg입니다.\n",
      "오늘 날짜 : 2023년도 6월 15일\n"
     ]
    }
   ],
   "source": [
    "# %d : 정수형 형식문자(10진수)\n",
    "# %o : 정수형 형식문자(8진수)\n",
    "# %x : 정수형 형식문자(16진수)\n",
    "# %f : 실수형 형식문자\n",
    "# %s : 문자열 형식문자\n",
    "\n",
    "name='kai'\n",
    "\n",
    "print('내 이름은 %s입니다.'%name)\n",
    "\n",
    "height=162\n",
    "print('제 키는 %dcm입니다'%height)\n",
    "\n",
    "weight=50.3312345\n",
    "print('제 몸무게는 %.1fkg입니다.'%weight)\n",
    "\n",
    "year,month,day=2023,6,15\n",
    "print('오늘 날짜 : %d년도 %d월 %d일'%(year,month,day))"
   ]
  },
  {
   "cell_type": "code",
   "execution_count": 47,
   "id": "1b5cbbe0",
   "metadata": {},
   "outputs": [
    {
     "name": "stdout",
     "output_type": "stream",
     "text": [
      "my name is Daisy\n"
     ]
    }
   ],
   "source": [
    "# format() 메서드\n",
    "# format() 메서드로 인수나 변수의 값을 표시하고, 해당 값이 표시될 위치를 중괄호로({}) 표시하는 방식\n",
    "\n",
    "print('my name is {}'.format('Daisy'))"
   ]
  }
 ],
 "metadata": {
  "kernelspec": {
   "display_name": "Python 3 (ipykernel)",
   "language": "python",
   "name": "python3"
  },
  "language_info": {
   "codemirror_mode": {
    "name": "ipython",
    "version": 3
   },
   "file_extension": ".py",
   "mimetype": "text/x-python",
   "name": "python",
   "nbconvert_exporter": "python",
   "pygments_lexer": "ipython3",
   "version": "3.10.9"
  }
 },
 "nbformat": 4,
 "nbformat_minor": 5
}
