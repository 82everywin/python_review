{
 "cells": [
  {
   "cell_type": "markdown",
   "id": "b87542d9",
   "metadata": {},
   "source": [
    "# 제어문\n",
    "- 프로그램의 흐름을 제어하는 문법\n",
    "    1. 조건문 : 조건에 따라서 명령을 실행할지 실행하지 않을지 정하는 문장\n",
    "        - if\n",
    "    2. 반복문 : 조건에 따라 명령을 반복할지 반복하지 않을지 정하는 문장\n",
    "        - for, while"
   ]
  },
  {
   "cell_type": "code",
   "execution_count": 3,
   "id": "04935285",
   "metadata": {},
   "outputs": [],
   "source": [
    "#if\n",
    "#조건에 따라서 명령을 실행할지 실행하지 않을지 정하는 문법\n",
    "\n",
    "'''\n",
    "if 조건식:\n",
    "    조건식이 True일때 실행할 명령\n",
    "'''\n",
    "\n",
    "#들여쓰기 규칙\n",
    "'''\n",
    "1. 공백이나 탭(tab)을 이용하여 들여쓰기를 한다.\n",
    "2. 공백의 개수는 상관이 없으나 기본적으로 4개를 사용한다.\n",
    "3. 탭으로 할경우 1번만 사용해야 한다.\n",
    "4. 동일 구역에서는 들여쓰기 개수를 통일해야 한다. 공백과 탭을 혼용하여 사용할 수 없다.\n",
    "'''\n",
    "\n",
    "a =-1\n",
    "\n",
    "if a> 0 :\n",
    "    print(f'{a}는 양수입니다.')\n",
    "    "
   ]
  },
  {
   "cell_type": "code",
   "execution_count": 5,
   "id": "7b2b769c",
   "metadata": {},
   "outputs": [
    {
     "name": "stdout",
     "output_type": "stream",
     "text": [
      "몇 살입니까>>>19\n",
      "미성년자\n"
     ]
    }
   ],
   "source": [
    "#if - else\n",
    "'''\n",
    "if 조건식:\n",
    "    조건이 True일 때 실행할 명령\n",
    "else:\n",
    "    조건이 False일 때 실행할 명령\n",
    "'''\n",
    "\n",
    "age = int(input('몇 살입니까>>>'))\n",
    "\n",
    "if age >= 20:\n",
    "    print('성인')\n",
    "else:\n",
    "    print('미성년자')"
   ]
  },
  {
   "cell_type": "code",
   "execution_count": 1,
   "id": "c6a85dc1",
   "metadata": {},
   "outputs": [
    {
     "name": "stdout",
     "output_type": "stream",
     "text": [
      "상\n"
     ]
    }
   ],
   "source": [
    "#if - elif문\n",
    "#중요도(important)가 100이상이면 '상', 중요도가 50~99면 '중', 50미만은 '하'로 구분해서 출력\n",
    "\n",
    "'''\n",
    "if important >= 100:\n",
    "    print('상')\n",
    "else:\n",
    "    if important >= 50:\n",
    "        print('중')\n",
    "    else:\n",
    "        print('하')\n",
    "'''\n",
    "\n",
    "#기본식\n",
    "'''\n",
    "if 조건식1:\n",
    "    조건식1이 참일 때 실행할 명령\n",
    "elif 조건식2:\n",
    "    조건식1이 거짓이고 조건식2가 참일 때 실행할 명령\n",
    "else:\n",
    "    모든 조건이 맞지 않을 때 실행할 명령\n",
    "\n",
    "elif ...: 내가 비교해야할 조건이 많아면 elif는 여러개 사용할 수 있다.\n",
    "필요하지 않다면 else는 생략이 가능하다.\n",
    "'''\n",
    "\n",
    "important = 102\n",
    "\n",
    "if important >=100:\n",
    "    print('상')\n",
    "elif important >= 50:\n",
    "    print('중')\n",
    "else:\n",
    "    print('하')\n"
   ]
  },
  {
   "cell_type": "code",
   "execution_count": null,
   "id": "1ed160b2",
   "metadata": {},
   "outputs": [],
   "source": [
    "a = 3\n",
    "\n",
    "if a > 0 :\n",
    "    print(f'{a}는 양수')\n",
    "if a == 0 :\n",
    "    print('0')\n",
    "if a < 0:\n",
    "    print(f'{a}는 음수')"
   ]
  },
  {
   "cell_type": "code",
   "execution_count": null,
   "id": "e9988d1c",
   "metadata": {},
   "outputs": [],
   "source": [
    "#점수를 입력받아서 학점을 출력하는 프로그램을 구현하세요\n",
    "# 점수가 100~90점이면 'A'\n",
    "# 89~80점이면 'B'\n",
    "# 79~70점이면 'C'\n",
    "# 69~60점이면 'D'\n",
    "# 59~0점이면 'F'\n",
    "\n",
    "'''\n",
    "실행 예\n",
    "점수를 입력하세요 >>> 95\n",
    "점수는 95점이고, 학점은 A입니다.\n",
    "'''\n",
    "\n",
    "score = int(input('점수를 입력하세요>>>'))\n",
    "\n",
    "if score > 100:\n",
    "        print('잘못입력하셨습니다.')\n",
    "elif score <= 100 and score >= 90:\n",
    "    print(f'점수는{score}점이고,학점은 A학점입니다.')\n",
    "elif score >= 80:\n",
    "    print(f'점수는{score}점이고,학점은 B학점입니다.')\n",
    "elif score >= 70:\n",
    "    print(f'점수는{score}점이고,학점은 C학점입니다.')\n",
    "elif score >= 60:\n",
    "    print(f'점수는{score}점이고,학점은 D학점입니다.')\n",
    "else:\n",
    "    print(f'점수는{score}점이고,학점은 F학점입니다.')  "
   ]
  },
  {
   "cell_type": "code",
   "execution_count": 13,
   "id": "36dad199",
   "metadata": {},
   "outputs": [
    {
     "name": "stdout",
     "output_type": "stream",
     "text": [
      "정수를 입력하세요>>>15\n",
      "15는 3의 배수입니다.\n"
     ]
    }
   ],
   "source": [
    "#임의의 정수를 입력받은 뒤, 해당 값이 3의 배수인지 아닌지 판별하는 프로그램 작성하기\n",
    "'''\n",
    "정수를 입력하세요>>> 14\n",
    "14는 3의 배수가 아닙니다.\n",
    "\n",
    "정수를 입력하세요>>>15\n",
    "15는 3의배수 입니다.\n",
    "'''\n",
    "\n",
    "number = int(input('정수를 입력하세요>>>'))\n",
    "\n",
    "if number % 3 == 0:\n",
    "    print(f'{number}는 3의 배수입니다.')\n",
    "else:\n",
    "    print(f'{number}는 3의 배수가 아닙니다.')"
   ]
  },
  {
   "cell_type": "code",
   "execution_count": 14,
   "id": "0c4a9b37",
   "metadata": {},
   "outputs": [
    {
     "name": "stdout",
     "output_type": "stream",
     "text": [
      "차량번호를 입력하세요>>>237가1234\n",
      "차량번호 237가1234는 오늘 운행가능입니다.\n"
     ]
    }
   ],
   "source": [
    "#사용자로부터 차량번호를 입력받아 차량번호가 짝수로 끝나면 '운행가능'\n",
    "#아니면 '운행불가'를 출력하는 프로그램을 구현하세요\n",
    "#단, 차량번호는 '237가1234'와 같은 방식으로 입력받는다고 가정합니다.\n",
    "\n",
    "'''\n",
    "실행 예\n",
    "차량번호를 입력하세요>>>237가1234\n",
    "차량번호 237가1234는 오늘 운행가능입니다.\n",
    "'''\n",
    "\n",
    "number = input('차량번호를 입력하세요>>>')\n",
    "\n",
    "if int(number[-1]) % 2 == 0:\n",
    "    print(f'차량번호 {number}는 오늘 운행가능입니다.')\n"
   ]
  },
  {
   "cell_type": "code",
   "execution_count": 17,
   "id": "5d0c9975",
   "metadata": {},
   "outputs": [
    {
     "name": "stdout",
     "output_type": "stream",
     "text": [
      "정수1입력>>>3\n",
      "정수2입력>>>2\n",
      "정수3입력>>>1\n",
      "3\n"
     ]
    }
   ],
   "source": [
    "#임의의 정수 3개를 입력받아 그 중에서 가장 큰 수를 출력하는 프로그램을 구현하세요\n",
    "'''\n",
    "정수1입력>>>3\n",
    "정수2입력>>>1\n",
    "정수3입력>>>2\n",
    "\n",
    "가장 큰 수 3\n",
    "'''\n",
    "\n",
    "a = int(input('정수1입력>>>'))\n",
    "b = int(input('정수2입력>>>'))\n",
    "c = int(input('정수3입력>>>'))\n",
    "\n",
    "\n",
    "if a > b and b > c:\n",
    "    print(a)\n",
    "elif b > a and b > c:\n",
    "    print(b)\n",
    "else:\n",
    "    print(c)"
   ]
  }
 ],
 "metadata": {
  "kernelspec": {
   "display_name": "Python 3 (ipykernel)",
   "language": "python",
   "name": "python3"
  },
  "language_info": {
   "codemirror_mode": {
    "name": "ipython",
    "version": 3
   },
   "file_extension": ".py",
   "mimetype": "text/x-python",
   "name": "python",
   "nbconvert_exporter": "python",
   "pygments_lexer": "ipython3",
   "version": "3.10.9"
  }
 },
 "nbformat": 4,
 "nbformat_minor": 5
}
