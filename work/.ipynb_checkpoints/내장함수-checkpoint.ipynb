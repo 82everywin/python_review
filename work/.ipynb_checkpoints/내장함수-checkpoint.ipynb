{
 "cells": [
  {
   "cell_type": "markdown",
   "id": "b2abd378",
   "metadata": {},
   "source": [
    "# 내장함수\n",
    "- 파이썬에는 항상 사용할 수 있도록 많은 함수가 내장되어 있으며 이를 내장함수라고 한다.\n",
    "- 이미 우리는 print(),input()과 같은 내장함수를 사용해왔다.\n",
    "- 더 많은 내장함수에 대해서 알아보고 특징에 대해서 알아보자"
   ]
  },
  {
   "cell_type": "code",
   "execution_count": 9,
   "id": "c2e6a7ea",
   "metadata": {},
   "outputs": [
    {
     "name": "stdout",
     "output_type": "stream",
     "text": [
      "A\n",
      "a\n",
      "65\n",
      "54620\n",
      "4\n",
      "50\n",
      "<class 'str'>\n",
      "계산식을 입력하세요2 + 2\n",
      "2 + 2 = 4\n"
     ]
    }
   ],
   "source": [
    "#문자열 내장함수\n",
    "#chr(숫자)\n",
    "#숫자에 해당하는 문자를 반환\n",
    "print(chr(65))\n",
    "print(chr(97))\n",
    "\n",
    "#ord(문자)\n",
    "#문자에 해당하는 아스키코드값을 반환\n",
    "print(ord('A'))\n",
    "print(ord('한'))\n",
    "\n",
    "#eval()\n",
    "#실행하고자 하는 표현식(expression)을 문자열(str)로 전달하면 표현식의 결과값을 반환하는 함수\n",
    "print(eval('2 + 2'))\n",
    "a = 10\n",
    "print(eval('a*5'))\n",
    "\n",
    "#str()\n",
    "#문자열로 변환해주는 함수\n",
    "print(type(str(10)))\n",
    "\n",
    "expr = input('계산식을 입력하세요')\n",
    "result = eval(expr)\n",
    "print(expr + ' = '+str(result))"
   ]
  },
  {
   "cell_type": "code",
   "execution_count": 3,
   "id": "8c4d2247",
   "metadata": {},
   "outputs": [
    {
     "name": "stdout",
     "output_type": "stream",
     "text": [
      "10\n",
      "10\n",
      "<class 'tuple'>\n",
      "3.0\n",
      "3.5\n",
      "3\n",
      "3\n",
      "10\n",
      "9\n",
      "1\n",
      "100\n",
      "3\n",
      "1.57\n",
      "2.67\n"
     ]
    }
   ],
   "source": [
    "#숫자 내장함수\n",
    "#abs()\n",
    "#절대값을 반환하는 함수\n",
    "print(abs(10))\n",
    "print(abs(-10))\n",
    "\n",
    "#divmod(인수1,인수2)\n",
    "#전달된 두개의 인수를 나누어 몫과 나머지를 한 쌍의 결과로 반환합니다.\n",
    "#몫과 나머지는 하나의 튜플로 반환됩니다.\n",
    "print(type(divmod(10,3)))\n",
    "\n",
    "#float()\n",
    "#실수로 만들어주는 함수\n",
    "print(float(3))\n",
    "print(float('3.5'))\n",
    "\n",
    "#int()\n",
    "#정수로 만들어주는 함수\n",
    "print(int(3.9))\n",
    "print(int('3'))\n",
    "\n",
    "#max()\n",
    "#최대값을 가려주는 함수\n",
    "print(max(1,3,5,10))\n",
    "li = [1,9,2,5,8,3]\n",
    "print(max(li))\n",
    "\n",
    "#min()\n",
    "#최소값을 가려주는 함수\n",
    "print(min(1,3,5,10))\n",
    "\n",
    "#pow()\n",
    "#전달된 두 인수의 거듭제곱을 반환\n",
    "# ** 연산자와 같은 역할을 한다.\n",
    "print(pow(10,2))\n",
    "\n",
    "#round()\n",
    "#반올ㄹ림을 해주는 함수 \n",
    "\n",
    "print(round(3.14))\n",
    "print(round(1.566,2))\n",
    "print(round(2.675,2))"
   ]
  }
 ],
 "metadata": {
  "kernelspec": {
   "display_name": "Python 3 (ipykernel)",
   "language": "python",
   "name": "python3"
  },
  "language_info": {
   "codemirror_mode": {
    "name": "ipython",
    "version": 3
   },
   "file_extension": ".py",
   "mimetype": "text/x-python",
   "name": "python",
   "nbconvert_exporter": "python",
   "pygments_lexer": "ipython3",
   "version": "3.10.9"
  }
 },
 "nbformat": 4,
 "nbformat_minor": 5
}
