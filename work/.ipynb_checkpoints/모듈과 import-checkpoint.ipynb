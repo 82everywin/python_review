{
 "cells": [
  {
   "cell_type": "markdown",
   "id": "4d2de908",
   "metadata": {},
   "source": [
    "# 모듈이란?\n",
    "- 파이썬 파일(.py)입니다.\n",
    "- 언제든지 사용할 수 있도록 변수나 함수 또는 클래스를 모아놓은 파일을 모듈이라고 합니다. "
   ]
  },
  {
   "cell_type": "code",
   "execution_count": 3,
   "id": "b20950ce",
   "metadata": {},
   "outputs": [
    {
     "name": "stdout",
     "output_type": "stream",
     "text": [
      "150km=93.20565miles\n",
      "1000=2.20462pound\n"
     ]
    }
   ],
   "source": [
    "# import : 사전적인 의미로는 '수입'\n",
    "# 프로그래밍에서는 외부 파일 등을 불러오는 것을 의미합니다. \n",
    "\n",
    "import converter\n",
    "\n",
    "miles=converter.kilometer_to_miles(150)\n",
    "print(f'150km={miles}miles')\n",
    "\n",
    "pound=converter.gram_to_pounds(1000)\n",
    "print(f'1000={pound}pound')"
   ]
  },
  {
   "cell_type": "code",
   "execution_count": 8,
   "id": "5942c3ad",
   "metadata": {},
   "outputs": [
    {
     "name": "stdout",
     "output_type": "stream",
     "text": [
      "150km=93.20565miles\n",
      "1000=2.20462pound\n"
     ]
    }
   ],
   "source": [
    "# from converter import kilometer_to_miles # converter 파일 중  kilometer_to_miles 만 import 하는 것\n",
    "from converter import *\n",
    "\n",
    "miles=kilometer_to_miles(150)\n",
    "print(f'150km={miles}miles')\n",
    "\n",
    "pound=gram_to_pounds(1000)  # kilometer 만 import해서 다른 메서든 그냥 사용 안됨 \n",
    "print(f'1000={pound}pound')"
   ]
  },
  {
   "cell_type": "code",
   "execution_count": 10,
   "id": "8a02043c",
   "metadata": {},
   "outputs": [
    {
     "name": "stdout",
     "output_type": "stream",
     "text": [
      "150km=93.20565miles\n",
      "1000=2.20462pound\n"
     ]
    }
   ],
   "source": [
    "# 별칭 사용하기\n",
    "# as(alias) : 별칭\n",
    "import converter as cvt\n",
    "\n",
    "miles=cvt.kilometer_to_miles(150)\n",
    "print(f'150km={miles}miles')\n",
    "\n",
    "pound=cvt.gram_to_pounds(1000)\n",
    "print(f'1000={pound}pound')"
   ]
  },
  {
   "cell_type": "code",
   "execution_count": 9,
   "id": "50367f7e",
   "metadata": {},
   "outputs": [
    {
     "name": "stdout",
     "output_type": "stream",
     "text": [
      "150km=93.20565miles\n"
     ]
    }
   ],
   "source": [
    "# 함수에게 별칭 붙히기\n",
    "from converter import kilometer_to_miles as k_o_m\n",
    "\n",
    "miles=k_o_m(150)\n",
    "print(f'150km={miles}miles')"
   ]
  },
  {
   "cell_type": "code",
   "execution_count": 31,
   "id": "e158336b",
   "metadata": {},
   "outputs": [
    {
     "name": "stdout",
     "output_type": "stream",
     "text": [
      "김철수 -> 김**\n",
      "951012-1234567 -> 951012-1******\n",
      "010-4366-8960 -> 010-4366-8960\n"
     ]
    }
   ],
   "source": [
    "# 개인정보의 보안 처리를 위하여 주어진 인수의 일부를 *로 바꿔서 반환하는 함수를 만들어 \n",
    "# 이를 모듈로 저장하는 프로그램 작성하기\n",
    "\n",
    "'''\n",
    "[모듈정보]\n",
    "모듈이름 : my_secure.py\n",
    "\n",
    "secure_name() : 김철수 -> 김**\n",
    "secure_no() : 951012-1234567 -> 951012-1******\n",
    "secure_phone() : 010-1234-5678 -> 010-****-5678\n",
    "'''\n",
    "\n",
    "import my_secure as ms\n",
    "\n",
    "name=ms.secure_name('김철수')\n",
    "print(f'김철수 -> {name}')\n",
    "\n",
    "no=ms.secure_no('951012-1234567')\n",
    "print(f'951012-1234567 -> {no}')\n",
    "\n",
    "phone=ms.secure_phone('010-4366-8960')\n",
    "print(f'010-4366-8960 -> {phone}')"
   ]
  }
 ],
 "metadata": {
  "kernelspec": {
   "display_name": "Python 3 (ipykernel)",
   "language": "python",
   "name": "python3"
  },
  "language_info": {
   "codemirror_mode": {
    "name": "ipython",
    "version": 3
   },
   "file_extension": ".py",
   "mimetype": "text/x-python",
   "name": "python",
   "nbconvert_exporter": "python",
   "pygments_lexer": "ipython3",
   "version": "3.10.9"
  }
 },
 "nbformat": 4,
 "nbformat_minor": 5
}
