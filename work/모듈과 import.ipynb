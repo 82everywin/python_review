{
 "cells": [
  {
   "cell_type": "markdown",
   "id": "4d2de908",
   "metadata": {},
   "source": [
    "# 모듈이란?\n",
    "- 파이썬 파일(.py)입니다.\n",
    "- 언제든지 사용할 수 있도록 변수나 함수 또는 클래스를 모아놓은 파일을 모듈이라고 합니다. "
   ]
  },
  {
   "cell_type": "code",
   "execution_count": null,
   "id": "b20950ce",
   "metadata": {},
   "outputs": [],
   "source": [
    "# import : 사전적인 의미로는 '수입'\n",
    "# 프로그래밍에서는 외부 파일 등을 불러오는 것을 의미합니다. \n",
    "\n",
    "import converter\n",
    "\n",
    "miles=converter.kilometer_to_miles(150)\n",
    "print(f'150km={miles}miles')\n",
    "\n",
    "pound=converter.gram_to_pounds(1000)\n",
    "print(f'1000={pound}pound')"
   ]
  },
  {
   "cell_type": "code",
   "execution_count": null,
   "id": "5942c3ad",
   "metadata": {},
   "outputs": [],
   "source": [
    "# from converter import kilometer_to_miles # converter 파일 중  kilometer_to_miles 만 import 하는 것\n",
    "from converter import *\n",
    "\n",
    "miles=kilometer_to_miles(150)\n",
    "print(f'150km={miles}miles')\n",
    "\n",
    "pound=gram_to_pounds(1000)  # kilometer 만 import해서 다른 메서든 그냥 사용 안됨 \n",
    "print(f'1000={pound}pound')"
   ]
  },
  {
   "cell_type": "code",
   "execution_count": null,
   "id": "8a02043c",
   "metadata": {},
   "outputs": [],
   "source": [
    "# 별칭 사용하기\n",
    "# as(alias) : 별칭\n",
    "import converter as cvt\n",
    "\n",
    "miles=cvt.kilometer_to_miles(150)\n",
    "print(f'150km={miles}miles')\n",
    "\n",
    "pound=cvt.gram_to_pounds(1000)\n",
    "print(f'1000={pound}pound')"
   ]
  },
  {
   "cell_type": "code",
   "execution_count": null,
   "id": "50367f7e",
   "metadata": {},
   "outputs": [],
   "source": [
    "# 함수에게 별칭 붙히기\n",
    "from converter import kilometer_to_miles as k_o_m\n",
    "\n",
    "miles=k_o_m(150)\n",
    "print(f'150km={miles}miles')"
   ]
  },
  {
   "cell_type": "code",
   "execution_count": 1,
   "id": "e158336b",
   "metadata": {},
   "outputs": [
    {
     "name": "stdout",
     "output_type": "stream",
     "text": [
      "김철수 -> 김**\n",
      "951012-1234567 -> 951012-1******\n",
      "010-4366-8960 -> 010-****-8960\n"
     ]
    }
   ],
   "source": [
    "# 개인정보의 보안 처리를 위하여 주어진 인수의 일부를 *로 바꿔서 반환하는 함수를 만들어 \n",
    "# 이를 모듈로 저장하는 프로그램 작성하기\n",
    "\n",
    "'''\n",
    "[모듈정보]\n",
    "모듈이름 : my_secure.py\n",
    "\n",
    "secure_name() : 김철수 -> 김**\n",
    "secure_no() : 951012-1234567 -> 951012-1******\n",
    "secure_phone() : 010-1234-5678 -> 010-****-5678\n",
    "'''\n",
    "\n",
    "import my_secure as ms\n",
    "\n",
    "name=ms.secure_name('김철수')\n",
    "print(f'김철수 -> {name}')\n",
    "\n",
    "no=ms.secure_no('951012-1234567')\n",
    "print(f'951012-1234567 -> {no}')\n",
    "\n",
    "phone=ms.secure_phone('010-4366-8960')\n",
    "print(f'010-4366-8960 -> {phone}')"
   ]
  },
  {
   "cell_type": "code",
   "execution_count": 6,
   "id": "43e8ac32",
   "metadata": {},
   "outputs": [
    {
     "name": "stdout",
     "output_type": "stream",
     "text": [
      "3.141592653589793\n",
      "2\n",
      "1\n",
      "-1\n",
      "-2\n",
      "5.0\n",
      "8.0\n"
     ]
    }
   ],
   "source": [
    "# 파이썬에서 제공하는 표준 모듈\n",
    "\n",
    "# math 모듈\n",
    "# 수학과 관련된 값과 함수를 제공하는 모듈입니다.\n",
    "\n",
    "import math\n",
    "\n",
    "print(math.pi) # 원주율\n",
    "print(math.ceil(1.1)) # 올림\n",
    "print(math.floor(1.9)) # 내림\n",
    "\n",
    "# trunc()\n",
    "# 전달된 값을 정수로 절사할 수 있다.\n",
    "print(math.trunc(-1.9)) # 소수점 이하를 잘라냄 => -1\n",
    "print(math.floor(-1.9)) # -> 내림 => -2\n",
    "\n",
    "# sqrt() \n",
    "# 제곱근을 구해주는 함수 \n",
    "print(math.sqrt(25))\n",
    "\n",
    "# pow()\n",
    "# 제곱을 해주는 함수\n",
    "print(math.pow(2,3)) # 2^3"
   ]
  },
  {
   "cell_type": "code",
   "execution_count": 51,
   "id": "169566ab",
   "metadata": {},
   "outputs": [
    {
     "name": "stdout",
     "output_type": "stream",
     "text": [
      "3\n",
      "9\n",
      "3\n",
      "4\n",
      "0.15476144374276568\n",
      "0.5 이상\n",
      "summer\n",
      "[35, 7, 13, 20, 9, 12]\n",
      "[4, 3, 1, 2, 5]\n"
     ]
    }
   ],
   "source": [
    "# 랜덤모듈 \n",
    "# 난수를 생성하는 모듈 \n",
    "# 간단한 게임을 제작할 수 있고 확률처리도 할 수 있습니다. \n",
    "\n",
    "import random\n",
    "\n",
    "# randint(start,end)\n",
    "# start, end 사이의 정수중 하나를 임의로 생성 \n",
    "# start <= 난수 <= end\n",
    "print(random.randint(1,10))\n",
    "print(random.randint(1,10))\n",
    "print(random.randint(1,10))\n",
    "print(random.randint(1,10))\n",
    "\n",
    "# randrange()\n",
    "random.randrange(10) # 0 이상 10 미만의 정수 중 하나\n",
    "random.randrange(1,10) # 1 이상 10 미만의 정수 중 하나\n",
    "random.randrange(1,10,2) # 1이상 10 미만의 홀수 중 하나\n",
    "\n",
    "# random()\n",
    "# 0~1 사이의 난수 생성\n",
    "print(random.random())\n",
    "\n",
    "# 함수의 결과가 0.5보다 작을 확률 = 50% \n",
    "if random.random() < 0.5:\n",
    "    print('안녕하세요')\n",
    "else :\n",
    "    print('0.5 이상')\n",
    "    \n",
    "# choice()\n",
    "# 인자로 전달된 시퀀스 자료형에 속한 요소중 하나를 임의로 반환 \n",
    "print(random.choice(['spirng','summer','fall','winter']))\n",
    "\n",
    "# sample()\n",
    "# 인자로 전달된 시퀀스 자료형에 속한 요소 중 지정된 개수의 요소를 임의로 반환 \n",
    "# 결과는 리스트로 반환1!\n",
    "print(random.sample(range(1,46),6)) # 1~45 까지의 수 중 6개 추출 ( 중복 추출 X)\n",
    "\n",
    "# shuffle()\n",
    "# 임의로 섞어주는 함수\n",
    "\n",
    "my_list=[1,2,3,4,5]\n",
    "random.shuffle(my_list)\n",
    "print(my_list)"
   ]
  }
 ],
 "metadata": {
  "kernelspec": {
   "display_name": "Python 3 (ipykernel)",
   "language": "python",
   "name": "python3"
  },
  "language_info": {
   "codemirror_mode": {
    "name": "ipython",
    "version": 3
   },
   "file_extension": ".py",
   "mimetype": "text/x-python",
   "name": "python",
   "nbconvert_exporter": "python",
   "pygments_lexer": "ipython3",
   "version": "3.10.9"
  }
 },
 "nbformat": 4,
 "nbformat_minor": 5
}
