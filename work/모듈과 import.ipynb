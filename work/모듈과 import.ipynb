{
 "cells": [
  {
   "cell_type": "markdown",
   "id": "4d2de908",
   "metadata": {},
   "source": [
    "# 모듈이란?\n",
    "- 파이썬 파일(.py)입니다.\n",
    "- 언제든지 사용할 수 있도록 변수나 함수 또는 클래스를 모아놓은 파일을 모듈이라고 합니다. \n",
    "0 "
   ]
  }
 ],
 "metadata": {
  "kernelspec": {
   "display_name": "Python 3 (ipykernel)",
   "language": "python",
   "name": "python3"
  },
  "language_info": {
   "codemirror_mode": {
    "name": "ipython",
    "version": 3
   },
   "file_extension": ".py",
   "mimetype": "text/x-python",
   "name": "python",
   "nbconvert_exporter": "python",
   "pygments_lexer": "ipython3",
   "version": "3.10.9"
  }
 },
 "nbformat": 4,
 "nbformat_minor": 5
}
