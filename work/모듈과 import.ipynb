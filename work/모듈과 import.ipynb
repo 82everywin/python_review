{
 "cells": [
  {
   "cell_type": "markdown",
   "id": "4d2de908",
   "metadata": {},
   "source": [
    "# 모듈이란?\n",
    "- 파이썬 파일(.py)입니다.\n",
    "- 언제든지 사용할 수 있도록 변수나 함수 또는 클래스를 모아놓은 파일을 모듈이라고 합니다. "
   ]
  },
  {
   "cell_type": "code",
   "execution_count": null,
   "id": "b20950ce",
   "metadata": {},
   "outputs": [],
   "source": [
    "# import : 사전적인 의미로는 '수입'\n",
    "# 프로그래밍에서는 외부 파일 등을 불러오는 것을 의미합니다. \n",
    "\n",
    "import converter\n",
    "\n",
    "miles=converter.kilometer_to_miles(150)\n",
    "print(f'150km={miles}miles')\n",
    "\n",
    "pound=converter.gram_to_pounds(1000)\n",
    "print(f'1000={pound}pound')"
   ]
  },
  {
   "cell_type": "code",
   "execution_count": null,
   "id": "5942c3ad",
   "metadata": {},
   "outputs": [],
   "source": [
    "# from converter import kilometer_to_miles # converter 파일 중  kilometer_to_miles 만 import 하는 것\n",
    "from converter import *\n",
    "\n",
    "miles=kilometer_to_miles(150)\n",
    "print(f'150km={miles}miles')\n",
    "\n",
    "pound=gram_to_pounds(1000)  # kilometer 만 import해서 다른 메서든 그냥 사용 안됨 \n",
    "print(f'1000={pound}pound')"
   ]
  },
  {
   "cell_type": "code",
   "execution_count": null,
   "id": "8a02043c",
   "metadata": {},
   "outputs": [],
   "source": [
    "# 별칭 사용하기\n",
    "# as(alias) : 별칭\n",
    "import converter as cvt\n",
    "\n",
    "miles=cvt.kilometer_to_miles(150)\n",
    "print(f'150km={miles}miles')\n",
    "\n",
    "pound=cvt.gram_to_pounds(1000)\n",
    "print(f'1000={pound}pound')"
   ]
  },
  {
   "cell_type": "code",
   "execution_count": null,
   "id": "50367f7e",
   "metadata": {},
   "outputs": [],
   "source": [
    "# 함수에게 별칭 붙히기\n",
    "from converter import kilometer_to_miles as k_o_m\n",
    "\n",
    "miles=k_o_m(150)\n",
    "print(f'150km={miles}miles')"
   ]
  },
  {
   "cell_type": "code",
   "execution_count": 1,
   "id": "e158336b",
   "metadata": {},
   "outputs": [
    {
     "name": "stdout",
     "output_type": "stream",
     "text": [
      "김철수 -> 김**\n",
      "951012-1234567 -> 951012-1******\n",
      "010-4366-8960 -> 010-****-8960\n"
     ]
    }
   ],
   "source": [
    "# 개인정보의 보안 처리를 위하여 주어진 인수의 일부를 *로 바꿔서 반환하는 함수를 만들어 \n",
    "# 이를 모듈로 저장하는 프로그램 작성하기\n",
    "\n",
    "'''\n",
    "[모듈정보]\n",
    "모듈이름 : my_secure.py\n",
    "\n",
    "secure_name() : 김철수 -> 김**\n",
    "secure_no() : 951012-1234567 -> 951012-1******\n",
    "secure_phone() : 010-1234-5678 -> 010-****-5678\n",
    "'''\n",
    "\n",
    "import my_secure as ms\n",
    "\n",
    "name=ms.secure_name('김철수')\n",
    "print(f'김철수 -> {name}')\n",
    "\n",
    "no=ms.secure_no('951012-1234567')\n",
    "print(f'951012-1234567 -> {no}')\n",
    "\n",
    "phone=ms.secure_phone('010-4366-8960')\n",
    "print(f'010-4366-8960 -> {phone}')"
   ]
  },
  {
   "cell_type": "code",
   "execution_count": 6,
   "id": "43e8ac32",
   "metadata": {},
   "outputs": [
    {
     "name": "stdout",
     "output_type": "stream",
     "text": [
      "3.141592653589793\n",
      "2\n",
      "1\n",
      "-1\n",
      "-2\n",
      "5.0\n",
      "8.0\n"
     ]
    }
   ],
   "source": [
    "# 파이썬에서 제공하는 표준 모듈\n",
    "\n",
    "# math 모듈\n",
    "# 수학과 관련된 값과 함수를 제공하는 모듈입니다.\n",
    "\n",
    "import math\n",
    "\n",
    "print(math.pi) # 원주율\n",
    "print(math.ceil(1.1)) # 올림\n",
    "print(math.floor(1.9)) # 내림\n",
    "\n",
    "# trunc()\n",
    "# 전달된 값을 정수로 절사할 수 있다.\n",
    "print(math.trunc(-1.9)) # 소수점 이하를 잘라냄 => -1\n",
    "print(math.floor(-1.9)) # -> 내림 => -2\n",
    "\n",
    "# sqrt() \n",
    "# 제곱근을 구해주는 함수 \n",
    "print(math.sqrt(25))\n",
    "\n",
    "# pow()\n",
    "# 제곱을 해주는 함수\n",
    "print(math.pow(2,3)) # 2^3"
   ]
  },
  {
   "cell_type": "code",
   "execution_count": 54,
   "id": "169566ab",
   "metadata": {},
   "outputs": [
    {
     "name": "stdout",
     "output_type": "stream",
     "text": [
      "1\n",
      "6\n",
      "10\n",
      "10\n",
      "0.8499972957696723\n",
      "안녕하세요\n",
      "winter\n",
      "[19, 9, 3, 32, 40, 27]\n",
      "[3, 1, 4, 2, 5]\n"
     ]
    }
   ],
   "source": [
    "# 랜덤모듈 \n",
    "# 난수를 생성하는 모듈 \n",
    "# 간단한 게임을 제작할 수 있고 확률처리도 할 수 있습니다. \n",
    "\n",
    "import random\n",
    "\n",
    "# randint(start,end)\n",
    "# start, end 사이의 정수중 하나를 임의로 생성 \n",
    "# start <= 난수 <= end\n",
    "print(random.randint(1,10))\n",
    "print(random.randint(1,10))\n",
    "print(random.randint(1,10))\n",
    "print(random.randint(1,10))\n",
    "\n",
    "# randrange()\n",
    "random.randrange(10) # 0 이상 10 미만의 정수 중 하나\n",
    "random.randrange(1,10) # 1 이상 10 미만의 정수 중 하나\n",
    "random.randrange(1,10,2) # 1이상 10 미만의 홀수 중 하나\n",
    "\n",
    "# random()\n",
    "# 0~1 사이의 난수 생성\n",
    "print(random.random())\n",
    "\n",
    "# 함수의 결과가 0.5보다 작을 확률 = 50% \n",
    "if random.random() < 0.5:\n",
    "    print('안녕하세요')\n",
    "else :\n",
    "    print('0.5 이상')\n",
    "    \n",
    "# choice()\n",
    "# 인자로 전달된 시퀀스 자료형에 속한 요소중 하나를 임의로 반환 \n",
    "print(random.choice(['spirng','summer','fall','winter']))\n",
    "\n",
    "# sample()\n",
    "# 인자로 전달된 시퀀스 자료형에 속한 요소 중 지정된 개수의 요소를 임의로 반환 \n",
    "# 결과는 리스트로 반환1!\n",
    "print(random.sample(range(1,46),6)) # 1~45 까지의 수 중 6개 추출 ( 중복 추출 X)\n",
    "\n",
    "# shuffle()\n",
    "# 임의로 섞어주는 함수\n",
    "\n",
    "my_list=[1,2,3,4,5]\n",
    "random.shuffle(my_list)\n",
    "print(my_list)"
   ]
  },
  {
   "cell_type": "code",
   "execution_count": 57,
   "id": "f1bd5c95",
   "metadata": {},
   "outputs": [
    {
     "name": "stdout",
     "output_type": "stream",
     "text": [
      "1688645360.7467234\n",
      "1\n",
      "2\n",
      "3\n",
      "4\n",
      "5\n",
      "6\n",
      "7\n",
      "8\n",
      "9\n",
      "10\n",
      "경과시간 :  10.098911046981812\n"
     ]
    }
   ],
   "source": [
    "# time 모듈 \n",
    "# 시간 처리에 관련된 time 모듈\n",
    "\n",
    "# time() 함수\n",
    "# 1970년 1월 1일 0시 0분 0초부터 현재까지 경과된 시간을 반환\n",
    "from time import *\n",
    "\n",
    "print(time())\n",
    "\n",
    "# sleep() 함수\n",
    "# 인수로 전달된 초만큼 시스템을 일시중지 시킵니다. \n",
    "\n",
    "start=time()\n",
    "\n",
    "for i in range(1,11):\n",
    "    sleep(1)\n",
    "    print(i)\n",
    "\n",
    "end=time()\n",
    "\n",
    "t=end-start\n",
    "print('경과시간 : ', t)\n"
   ]
  },
  {
   "cell_type": "code",
   "execution_count": 59,
   "id": "36db9dc9",
   "metadata": {},
   "outputs": [
    {
     "name": "stdout",
     "output_type": "stream",
     "text": [
      "2023-07-06 21:13:28.498714\n",
      "2014-08-25\n"
     ]
    }
   ],
   "source": [
    "# datetime() 함수\n",
    "# 날짜와 시간을 처리하는 함수 \n",
    "\n",
    "from datetime import *\n",
    "present=datetime.now()\n",
    "\n",
    "print(present)\n",
    "\n",
    "# date()\n",
    "# 특정날짜를 만들어 반환 \n",
    "birthday= date(2014,8,25)\n",
    "print(birthday)"
   ]
  },
  {
   "cell_type": "code",
   "execution_count": 64,
   "id": "24eec773",
   "metadata": {},
   "outputs": [
    {
     "name": "stdout",
     "output_type": "stream",
     "text": [
      "합계 50000005000000\n",
      "걸린 시간 :  0.679361 초 소요\n"
     ]
    }
   ],
   "source": [
    "# 1 ~1천만 까지 합계를 구하고 그 연산에 걸린 시간 측정하기 \n",
    "\n",
    "from datetime import *\n",
    "\n",
    "start = datetime.now()\n",
    "total=0\n",
    "\n",
    "for num in range(1,10000001):\n",
    "    total+=num\n",
    "\n",
    "end=datetime.now()\n",
    "\n",
    "print('합계', total)\n",
    "print('걸린 시간 : ',(end-start).total_seconds(),'초 소요' )"
   ]
  },
  {
   "cell_type": "code",
   "execution_count": 67,
   "id": "8749717a",
   "metadata": {},
   "outputs": [
    {
     "name": "stdout",
     "output_type": "stream",
     "text": [
      "15\n"
     ]
    }
   ],
   "source": [
    "# 외부 모듈의 활용\n",
    "# 패키지\n",
    "# 모듈의 상위개념(모듈이 모여서 패키지가 된다.)\n",
    "\n",
    "# 파이썬을 설치할 때 같이 설치가 되지 않는 모듈의 경우 패키지 형태로 배포가 됩니다. \n",
    "\n",
    "# numpy 패키지는 수치해석 통계에서 많이 사용되며 '넘파이' 라고 읽습니다,\n",
    "import numpy as np\n",
    "\n",
    "print(np.sum([1,2,3,4,5]))\n"
   ]
  },
  {
   "cell_type": "code",
   "execution_count": 76,
   "id": "9fb239b6",
   "metadata": {},
   "outputs": [
    {
     "name": "stdout",
     "output_type": "stream",
     "text": [
      "13\n",
      "숫자를 입력해주세요>>>50\n",
      "down\n",
      "숫자를 입력해주세요>>>25\n",
      "down\n",
      "숫자를 입력해주세요>>>14\n",
      "down\n",
      "숫자를 입력해주세요>>>7\n",
      "up\n",
      "숫자를 입력해주세요>>>10\n",
      "up\n",
      "숫자를 입력해주세요>>>13\n",
      "정답!\n",
      "<<<<< 18초만에 정답을 맞추었습니다. >>>>\n"
     ]
    }
   ],
   "source": [
    "# UpDown\n",
    "# 1~100 사이의 정수 중 하나를 임의로 생성하면 사용자는 그 숫자를 맞출 때까지 값을 예상하여 입력합니다.\n",
    "# 사용자가 입력한 값이 정답보다 작으면 up, 정답보다 크면 down을 출력합니다.\n",
    "# 사용자가 정답을 맞히면 몇 초만에 정답을 맞혔는지 출력하세요\n",
    "# 이때 소수점 아래 값은 내림 처리 하여 정수로 출력하세요.\n",
    "\n",
    "import random\n",
    "import UpDown\n",
    "import math\n",
    "from time import *\n",
    "\n",
    "start=time()\n",
    "\n",
    "num=random.randint(1,100)\n",
    "print(num)\n",
    "while True:\n",
    "    input_num=int(input(\"숫자를 입력해주세요>>>\"))\n",
    "    res=UpDown.up_down(input_num,num)\n",
    "    print(res)\n",
    "    if(res==\"정답!\"):\n",
    "        end=time()\n",
    "        break;\n",
    "        \n",
    "time=end-start\n",
    "print(f'<<<<< {math.floor(time)}초만에 정답을 맞추었습니다. >>>>')\n",
    "\n",
    "\n",
    "\n",
    "\n",
    "\n"
   ]
  },
  {
   "cell_type": "code",
   "execution_count": null,
   "id": "e25049a1",
   "metadata": {},
   "outputs": [],
   "source": []
  }
 ],
 "metadata": {
  "kernelspec": {
   "display_name": "Python 3 (ipykernel)",
   "language": "python",
   "name": "python3"
  },
  "language_info": {
   "codemirror_mode": {
    "name": "ipython",
    "version": 3
   },
   "file_extension": ".py",
   "mimetype": "text/x-python",
   "name": "python",
   "nbconvert_exporter": "python",
   "pygments_lexer": "ipython3",
   "version": "3.10.9"
  }
 },
 "nbformat": 4,
 "nbformat_minor": 5
}
