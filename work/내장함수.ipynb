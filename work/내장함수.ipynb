{
 "cells": [
  {
   "cell_type": "markdown",
   "id": "b2abd378",
   "metadata": {},
   "source": [
    "# 내장함수\n",
    "- 파이썬에는 항상 사용할 수 있도록 많은 함수가 내장되어 있으며 이를 내장함수라고 한다.\n",
    "- 이미 우리는 print(),input()과 같은 내장함수를 사용해왔다.\n",
    "- 더 많은 내장함수에 대해서 알아보고 특징에 대해서 알아보자"
   ]
  },
  {
   "cell_type": "code",
   "execution_count": 9,
   "id": "c2e6a7ea",
   "metadata": {},
   "outputs": [
    {
     "name": "stdout",
     "output_type": "stream",
     "text": [
      "A\n",
      "a\n",
      "65\n",
      "54620\n",
      "4\n",
      "50\n",
      "<class 'str'>\n",
      "계산식을 입력하세요2 + 2\n",
      "2 + 2 = 4\n"
     ]
    }
   ],
   "source": [
    "#문자열 내장함수\n",
    "#chr(숫자)\n",
    "#숫자에 해당하는 문자를 반환\n",
    "print(chr(65))\n",
    "print(chr(97))\n",
    "\n",
    "#ord(문자)\n",
    "#문자에 해당하는 아스키코드값을 반환\n",
    "print(ord('A'))\n",
    "print(ord('한'))\n",
    "\n",
    "#eval()\n",
    "#실행하고자 하는 표현식(expression)을 문자열(str)로 전달하면 표현식의 결과값을 반환하는 함수\n",
    "print(eval('2 + 2'))\n",
    "a = 10\n",
    "print(eval('a*5'))\n",
    "\n",
    "#str()\n",
    "#문자열로 변환해주는 함수\n",
    "print(type(str(10)))\n",
    "\n",
    "expr = input('계산식을 입력하세요')\n",
    "result = eval(expr)\n",
    "print(expr + ' = '+str(result))"
   ]
  },
  {
   "cell_type": "code",
   "execution_count": 12,
   "id": "8c4d2247",
   "metadata": {},
   "outputs": [
    {
     "name": "stdout",
     "output_type": "stream",
     "text": [
      "10\n",
      "10\n",
      "<class 'tuple'>\n",
      "3.0\n",
      "3.5\n",
      "3\n",
      "3\n",
      "10\n",
      "9\n",
      "1\n",
      "100\n",
      "3\n",
      "1.56\n",
      "2.67\n",
      "10\n"
     ]
    },
    {
     "ename": "TypeError",
     "evalue": "unsupported operand type(s) for +: 'int' and 'str'",
     "output_type": "error",
     "traceback": [
      "\u001b[1;31m---------------------------------------------------------------------------\u001b[0m",
      "\u001b[1;31mTypeError\u001b[0m                                 Traceback (most recent call last)",
      "Cell \u001b[1;32mIn[12], line 51\u001b[0m\n\u001b[0;32m     49\u001b[0m \u001b[38;5;66;03m#숫자가 아닌 값을 전달하면 에러가 발생합니다.\u001b[39;00m\n\u001b[0;32m     50\u001b[0m \u001b[38;5;28mlist\u001b[39m\u001b[38;5;241m=\u001b[39m[\u001b[38;5;124m'\u001b[39m\u001b[38;5;124mh\u001b[39m\u001b[38;5;124m'\u001b[39m,\u001b[38;5;124m'\u001b[39m\u001b[38;5;124me\u001b[39m\u001b[38;5;124m'\u001b[39m,\u001b[38;5;124m'\u001b[39m\u001b[38;5;124ml\u001b[39m\u001b[38;5;124m'\u001b[39m,\u001b[38;5;124m'\u001b[39m\u001b[38;5;124ml\u001b[39m\u001b[38;5;124m'\u001b[39m,\u001b[38;5;124m'\u001b[39m\u001b[38;5;124mo\u001b[39m\u001b[38;5;124m'\u001b[39m]\n\u001b[1;32m---> 51\u001b[0m \u001b[38;5;28mprint\u001b[39m(\u001b[38;5;28;43msum\u001b[39;49m\u001b[43m(\u001b[49m\u001b[38;5;28;43mlist\u001b[39;49m\u001b[43m)\u001b[49m)\n",
      "\u001b[1;31mTypeError\u001b[0m: unsupported operand type(s) for +: 'int' and 'str'"
     ]
    }
   ],
   "source": [
    "#숫자 내장함수\n",
    "#abs()\n",
    "#절대값을 반환하는 함수\n",
    "print(abs(10))\n",
    "print(abs(-10))\n",
    "\n",
    "#divmod(인수1,인수2)\n",
    "#전달된 두개의 인수를 나누어 몫과 나머지를 한 쌍의 결과로 반환합니다.\n",
    "#몫과 나머지는 하나의 튜플로 반환됩니다.\n",
    "print(type(divmod(10,3)))\n",
    "\n",
    "#float()\n",
    "#실수로 만들어주는 함수\n",
    "print(float(3))\n",
    "print(float('3.5'))\n",
    "\n",
    "#int()\n",
    "#정수로 만들어주는 함수\n",
    "print(int(3.9))\n",
    "print(int('3'))\n",
    "\n",
    "#max()\n",
    "#최대값을 가려주는 함수\n",
    "print(max(1,3,5,10))\n",
    "li = [1,9,2,5,8,3]\n",
    "print(max(li))\n",
    "\n",
    "#min()\n",
    "#최소값을 가려주는 함수\n",
    "print(min(1,3,5,10))\n",
    "\n",
    "#pow()\n",
    "#전달된 두 인수의 거듭제곱을 반환\n",
    "# ** 연산자와 같은 역할을 한다.\n",
    "print(pow(10,2))\n",
    "\n",
    "#round()\n",
    "#반올림을 해주는 함수 \n",
    "\n",
    "print(round(3.14))\n",
    "print(round(1.565,2))\n",
    "print(round(2.675,2))\n",
    "\n",
    "#sum() 함수\n",
    "#전달된 리스트나 튜플과 같은 반복가능 객체의 합계를 반환합니다. \n",
    "list1=[1,2,3,4]\n",
    "print(sum(list1))\n",
    "\n",
    "#숫자가 아닌 값을 전달하면 에러가 발생합니다.\n",
    "list=['h','e','l','l','o']\n",
    "print(sum(list))"
   ]
  },
  {
   "cell_type": "markdown",
   "id": "681a8e88",
   "metadata": {},
   "source": [
    "# 시퀀스 내장함수"
   ]
  },
  {
   "cell_type": "code",
   "execution_count": 34,
   "id": "fe200f78",
   "metadata": {},
   "outputs": [
    {
     "name": "stdout",
     "output_type": "stream",
     "text": [
      "(0, '가위')\n",
      "(1, '바위')\n",
      "(2, '보')\n",
      "4\n",
      "2\n",
      "5\n",
      "[1, 3, 4, 5, 6, 7, 9]\n",
      "[9, 7, 6, 5, 4, 3, 1]\n",
      "[6, 3, 1, 7, 5, 9, 4]\n",
      "[1, 3, 4, 5, 6, 7, 9]\n"
     ]
    }
   ],
   "source": [
    "# enumerate()\n",
    "# 리스트에 저장된 요소와 해당 요소의 index가 튜플형태로 추출됩니다. \n",
    "\n",
    "list1=['가위','바위','보']\n",
    "\n",
    "for i in enumerate(list1):\n",
    "    print(i)\n",
    "\n",
    "# 결과가 각각 하나의 튜플이다. \n",
    "\n",
    "# range()\n",
    "# 특정 범위를 생성하는 함수\n",
    "# range(시작값, 종료값, 증감값)\n",
    "\n",
    "#  print(list(range(10)))\n",
    "#print(list(range(1,11,1)))\n",
    "\n",
    "#len()\n",
    "# 함수에 전달된 인자의 길이(갯수)를 반환하는 함수\n",
    "\n",
    "li=['a','b','c','d']\n",
    "print(len(li))\n",
    "\n",
    "\n",
    "d={'a':'apple','b':'banana'}\n",
    "\n",
    "print(len(d))\n",
    "\n",
    "s={1,2,3,4,5,5} # set이니까 집합 s={1,2,3,4,5} 로 인식\n",
    "print(len(s))\n",
    "\n",
    "# sorted()\n",
    "# 함수에 전달된 반복가능객체의 오름차순 정렬결과를 반환합니다.\n",
    "\n",
    "li=[6,3,1,7,5,9,4]\n",
    "\n",
    "print(sorted(li))\n",
    "print(sorted(li,reverse=True))\n",
    "print(li)\n",
    "\n",
    "li=sorted(li)\n",
    "print(li)\n"
   ]
  },
  {
   "cell_type": "code",
   "execution_count": 35,
   "id": "a1af7f8e",
   "metadata": {},
   "outputs": [
    {
     "name": "stdout",
     "output_type": "stream",
     "text": [
      "('james', 60)\n",
      "('emily', 70)\n",
      "('daisy', 80)\n"
     ]
    }
   ],
   "source": [
    "# zip()\n",
    "# 함수로 전달된 여러 개의 반복가능객체의 각 요소를 튜플로 묶어서 반환하는 함수\n",
    "\n",
    "names=['james','emily','daisy']\n",
    "scores=[60,70,80]\n",
    "\n",
    "for item in zip(names,scores):\n",
    "    print(item)\n",
    "    "
   ]
  },
  {
   "cell_type": "code",
   "execution_count": 42,
   "id": "2f678ceb",
   "metadata": {},
   "outputs": [
    {
     "name": "stdout",
     "output_type": "stream",
     "text": [
      "점수를 입력하세요>>> 0\n",
      "점수를 입력하세요>>> 80\n",
      "점수를 입력하세요>>> 100\n",
      "점수를 입력하세요>>> -2\n",
      "평균 = 60.0, 최대 = 100. 최소 = 0\n"
     ]
    }
   ],
   "source": [
    "# 어떤 학생의 점수를 입력받아 평균점수, 최고점수, 최저점수를 구하는 성적계산 프로그램 구현\n",
    "'''\n",
    " 1. 몇 개의 점수를 입력받아야 하는지 모르는 상황입니다.\n",
    " 2. 0보다 작은 수를 입력하면 더이상 입력할 점수가 없음을 의미합니다.\n",
    " 3. 입력받은 모든 점수는 exam 리스트에 저장합니다.\n",
    " 4. 마지막에 입력된 0보다 작은 점수는 exam에 저장하지 않습니다.\n",
    " \n",
    " 예시\n",
    " 점수를 입력하세요>>>80\n",
    " 점수를 입력하세요>>>50\n",
    " 점수를 입력하세요>>>60\n",
    " 점수를 입력하세요>>>30\n",
    " 점수를 입력하세요>>>90\n",
    " 점수를 입력하세요>>>-1\n",
    "  \n",
    "평균=62.0, 최대 = 90, 최소 = 30\n",
    "'''\n",
    "    \n",
    "score=int(input('점수를 입력하세요>>> '))\n",
    "exam=[]\n",
    "\n",
    "while score>=0 :\n",
    "    exam.append(score)\n",
    "    score=int(input('점수를 입력하세요>>> '))\n",
    " \n",
    "\n",
    "avg=sum(exam)/len(exam)\n",
    "max1=max(exam)\n",
    "min1=min(exam)\n",
    "\n",
    "print(f'평균 = {avg}, 최대 = {max1}. 최소 = {min1}')"
   ]
  }
 ],
 "metadata": {
  "kernelspec": {
   "display_name": "Python 3 (ipykernel)",
   "language": "python",
   "name": "python3"
  },
  "language_info": {
   "codemirror_mode": {
    "name": "ipython",
    "version": 3
   },
   "file_extension": ".py",
   "mimetype": "text/x-python",
   "name": "python",
   "nbconvert_exporter": "python",
   "pygments_lexer": "ipython3",
   "version": "3.10.9"
  }
 },
 "nbformat": 4,
 "nbformat_minor": 5
}
