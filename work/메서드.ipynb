{
 "cells": [
  {
   "cell_type": "markdown",
   "id": "33d47fa8",
   "metadata": {},
   "source": [
    "# 메서드\n",
    "- 특정 객체가 가지고 있는 함수를 의미합니다. 특정 데이터 자료형에 포함되어 있는 함수라고 볼 수 있습니다. \n",
    "- 함수와 메서드의 작동 방식은 똑같으나 호출방식에서 차이가 있습니다. \n",
    "- 함수는 독립적으로 호출할 수 있지만, 메서드는 특정 객체를 통해서만 호출할 수 있습니다. \n"
   ]
  },
  {
   "cell_type": "code",
   "execution_count": 1,
   "id": "51f24346",
   "metadata": {},
   "outputs": [
    {
     "name": "stdout",
     "output_type": "stream",
     "text": [
      "[1, 2, 3, 4, 5]\n"
     ]
    }
   ],
   "source": [
    "li=[1,2,3,4]\n",
    "\n",
    "li.append(5) # 메서드\n",
    "\n",
    "print(li) # 함수"
   ]
  },
  {
   "cell_type": "code",
   "execution_count": 7,
   "id": "aa52cee3",
   "metadata": {},
   "outputs": [
    {
     "name": "stdout",
     "output_type": "stream",
     "text": [
      "4\n",
      "1\n",
      "1\n",
      "-1\n",
      "3\n",
      "10\n"
     ]
    }
   ],
   "source": [
    "# 문자열 메서드\n",
    "# count()\n",
    "# 문자열 내부에 포함된 특정 문자열의 개수를 반환하는 메서드\n",
    "s='내가 그린 기린 그림은 목 긴 기린 그림이고, 네가 그린 기린 그림은 목 짧은 기린 그림이다.'\n",
    "\n",
    "print(s.count('기린'))\n",
    "\n",
    "s='best of best'\n",
    "print(s.count('best',5)) # index 5번 부터 검색을 진행 \n",
    "print(s.count('best',-7))\n",
    "\n",
    "# find()\n",
    "# 문자열 내부에 포함된 특정 문자열을 찾고자 할 때 사용한다.\n",
    "# 찾고자 하는 문자열의 index값을 반환한다\n",
    "\n",
    "s='apple'\n",
    "print(s.find('z'))\n",
    "\n",
    "s='beast'\n",
    "print(s.find('s'))\n",
    "\n",
    "s='best of best'\n",
    "print(s.find('s',5))"
   ]
  },
  {
   "cell_type": "code",
   "execution_count": 19,
   "id": "97ecac3f",
   "metadata": {},
   "outputs": [
    {
     "name": "stdout",
     "output_type": "stream",
     "text": [
      "BEST OF BEST\n",
      "best of best\n",
      "Best of best\n",
      "p-y-t-h-o-n\n",
      "a+b+c+d\n",
      "['Life', 'is', 'too', 'short']\n",
      "['010', '4366', '8960']\n"
     ]
    }
   ],
   "source": [
    "# index()\n",
    "# find()역할과 똑같지만 찾는 문자열이 없을 경우 오류를 발생시킴\n",
    "\n",
    "s='apple'\n",
    "# print(s.index('z'))\n",
    "\n",
    "# upper()\n",
    "# 문자열을 대문자로 만드는 메서드\n",
    "s='Best of Best'\n",
    "print(s.upper())\n",
    "\n",
    "# lower()\n",
    "# 문자열을 소문자로 만드는 메서드\n",
    "print(s.lower())\n",
    "\n",
    "#capitalize()\n",
    "# 첫글자는 대문자로 바꾸고 나머지는 소문자로 바꾸는 메서드\n",
    "print(s.capitalize())\n",
    "\n",
    "# join()\n",
    "# 인수로 전달한 반복가능객체(문자열, 리스트 등) 각 요소 사이에 문장열을 포함시켜\n",
    "# 새로운 문자열 반환\n",
    "\n",
    "print('-'.join('python'))\n",
    "print('+'.join(['a','b','c','d']))\n",
    "\n",
    "#split()\n",
    "#하나의 문자열을 여러개로 분리해서 리스트로 반환하는 메서드\n",
    "# 기본적으로는 공백 문자를 기준으로 분류하지만, 특정 문자열을 기준으로 분리 할 수 있음\n",
    "\n",
    "s='Life is too short'\n",
    "\n",
    "print(s.split())\n",
    "\n",
    "s='010-4366-8960'\n",
    "\n",
    "print(s.split('-'))"
   ]
  },
  {
   "cell_type": "code",
   "execution_count": 20,
   "id": "a24ea799",
   "metadata": {},
   "outputs": [
    {
     "name": "stdout",
     "output_type": "stream",
     "text": [
      "Life is too long\n"
     ]
    }
   ],
   "source": [
    "# replace()\n",
    "# 문자열의 일부분을 다른 문자열로 바꾼 결과를 반환한다.\n",
    "\n",
    "s='Life is too short'\n",
    "print(s.replace('short','long'))"
   ]
  },
  {
   "cell_type": "code",
   "execution_count": 24,
   "id": "531cd9a6",
   "metadata": {},
   "outputs": [
    {
     "name": "stdout",
     "output_type": "stream",
     "text": [
      "문자열을 입력하세요>>>토마토\n",
      "회문입니다\n"
     ]
    }
   ],
   "source": [
    "# 문자열을 하나 입력받고 해당 문자열이 회문인지 아닌지 판별하는 프로그램 구현하기 \n",
    "'''\n",
    "회문\n",
    "토마토 ->토마토\n",
    "'''\n",
    "\n",
    "str =input(\"문자열을 입력하세요>>>\")\n",
    "\n",
    "str_re=\"\"\n",
    "\n",
    "for i in range(len(str)-1,-1,-1):\n",
    "    str_re+=str[i]\n",
    "\n",
    "\n",
    "if str==str_re:\n",
    "    print('회문입니다')\n",
    "else:\n",
    "    print('회문이 아닙니다')"
   ]
  },
  {
   "cell_type": "code",
   "execution_count": 27,
   "id": "260d69b5",
   "metadata": {},
   "outputs": [
    {
     "name": "stdout",
     "output_type": "stream",
     "text": [
      "[1, 2, 3]\n",
      "['apple', 'banana', 'cherry', 'milk']\n",
      "['apple', 'banana', 'cherry', 'milk', 'c', 'h', 'e', 'r', 'r', 'y']\n"
     ]
    }
   ],
   "source": [
    "# 컬렉션 메서드\n",
    "# 리스트 메서드\n",
    "\n",
    "# append()\n",
    "# 리스트의 끝에 인수로 전달된 데이터를 추가한다.\n",
    "li=[1,2]\n",
    "\n",
    "li.append(3)\n",
    "\n",
    "print(li)\n",
    "\n",
    "# extend()\n",
    "# 리스트에 다른 리스트나 튜플과 같은 반복가능객체를 추가하여 기존 리스트를 확장합니다.\n",
    "li=['apple','banana']\n",
    "li.extend(('cherry','milk'))\n",
    "print(li)\n",
    "\n",
    "li.extend('cherry')\n",
    "print(li)\n"
   ]
  },
  {
   "cell_type": "code",
   "execution_count": 31,
   "id": "99a88334",
   "metadata": {
    "scrolled": true
   },
   "outputs": [
    {
     "name": "stdout",
     "output_type": "stream",
     "text": [
      "{'apple', 'banana'}\n",
      "{'apple', 'banana'}\n",
      "{'apple', 'orange', 'banana', 'cherry'}\n",
      "{'apple', 'orange', 'banana', 'cherry'}\n",
      "{'cherry'}\n",
      "{'orange'}\n",
      "{'cherry'}\n",
      "{'orange'}\n"
     ]
    }
   ],
   "source": [
    "# set 메서드\n",
    "# set : 수학에서 집합의 개념을 갖고 있다. \n",
    "# intersection() : 교집합\n",
    "s1 = {'apple','banana','cherry'}\n",
    "s2 = {'apple','banana','orange'}\n",
    "\n",
    "print(s1.intersection(s2))\n",
    "print(s1&s2)\n",
    "\n",
    "#union():합집합\n",
    "print(s1.union(s2))\n",
    "print(s1|s2)\n",
    "\n",
    "#difference(): 차집합\n",
    "print(s1.difference(s2))\n",
    "print(s2.difference(s1))\n",
    "print(s1-s2)\n",
    "print(s2-s1)"
   ]
  },
  {
   "cell_type": "code",
   "execution_count": 33,
   "id": "a69e0bec",
   "metadata": {},
   "outputs": [
    {
     "name": "stdout",
     "output_type": "stream",
     "text": [
      "dict_keys(['name', 'e-mail', 'tel'])\n",
      "dict_values(['홍길동', 'hong@gmail.com', '010-0000-0000'])\n"
     ]
    }
   ],
   "source": [
    "# 딕셔너리 메서드\n",
    "student={'name':'홍길동','e-mail':'hong@gmail.com','tel':'010-0000-0000'}\n",
    "\n",
    "# keys() \n",
    "# 해당 딕셔너리의 모든 key를 반환한다.\n",
    "print(student.keys())\n",
    "\n",
    "# values()\n",
    "# 해당 딕셔너리의 모든 values를 반환한다.\n",
    "print(student.values())"
   ]
  }
 ],
 "metadata": {
  "kernelspec": {
   "display_name": "Python 3 (ipykernel)",
   "language": "python",
   "name": "python3"
  },
  "language_info": {
   "codemirror_mode": {
    "name": "ipython",
    "version": 3
   },
   "file_extension": ".py",
   "mimetype": "text/x-python",
   "name": "python",
   "nbconvert_exporter": "python",
   "pygments_lexer": "ipython3",
   "version": "3.10.9"
  }
 },
 "nbformat": 4,
 "nbformat_minor": 5
}
