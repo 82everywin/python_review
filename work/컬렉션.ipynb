{
 "cells": [
  {
   "cell_type": "markdown",
   "id": "9f632428",
   "metadata": {},
   "source": [
    "# 컬렉션(Collection)\n",
    "- 컬렉션이란 '모음'이라는 뜻으로 파이썬에서는 여러개의 값을 하나로 묶어서 관리하는 데이터 구조\n",
    "\n",
    "## 컬렉션의 종류\n",
    "1. 리스트 : list()\n",
    "    - 추가,수정,삭제가 언제든지 가능\n",
    "    - a = [1,2,3]    \n",
    "\n",
    "2. 튜플 : tuple()\n",
    "    - 생성되고 나면 삭제가 불가능\n",
    "    - a = (1,2,3)\n",
    "\n",
    "3. 셋 : set()\n",
    "    - 중복된 값의 저장이 불가능\n",
    "    - a = {1,2,3}\n",
    "    \n",
    "4. 딕셔너리 : dict()\n",
    "    - 키와 값으로 관리\n",
    "    - a = {'a':25}\n",
    "    \n",
    "### 컬렉션을 사용하는 이유\n",
    "- 사용해야 하는 변수가 많다면 변수의 이름을 짓는것도 쉽지않다.\n",
    "- 컬렉션을 사용해서 많은양의 데이터를 보다 쉽게 관리할 수 있다."
   ]
  },
  {
   "cell_type": "code",
   "execution_count": 16,
   "id": "c610aacc",
   "metadata": {},
   "outputs": [
    {
     "name": "stdout",
     "output_type": "stream",
     "text": [
      "100\n",
      "[10, 20, 30]\n",
      "[50, 40, 30, 100]\n",
      "[90, 50, 40, 30, 100]\n",
      "100\n",
      "90\n",
      "[50, 40, 30]\n"
     ]
    }
   ],
   "source": [
    "#리스트\n",
    "#리스트는 가장 많이 사용되는 컬렉션\n",
    "#타입이 다르더라도 하나의 리스트에 저장이 가능하다.\n",
    "'''\n",
    "list = [값1,값2,값3...]\n",
    "lit = list(반복가능객체)\n",
    "'''\n",
    "\n",
    "li = [100, 3.14, 'hello']\n",
    "\n",
    "#indexing\n",
    "print(li[0])\n",
    "\n",
    "li = [10,20,30,40,50]\n",
    "#sclicing\n",
    "print(li[0:3])\n",
    "\n",
    "#리스트의 요소 추가와 삭제\n",
    "#추가 : append() 메서드\n",
    "\n",
    "scores = [50,40,30]\n",
    "scores.append(100) # 마지막요소로 100을 추가\n",
    "print(scores)\n",
    "\n",
    "# insert(index,value) 내가 원하는 index번호에 value를 넣는다.\n",
    "scores.insert(0,90)\n",
    "print(scores)\n",
    "\n",
    "\n",
    "#삭제 : pop() 메서드\n",
    "#pop() -> 맨 뒤의 요소를 삭제\n",
    "#pop(index) -> 해당 index번호의 요소를 삭제\n",
    "print(scores.pop())\n",
    "print(scores.pop(0))\n",
    "\n",
    "print(scores)"
   ]
  },
  {
   "cell_type": "code",
   "execution_count": 19,
   "id": "b69f2e3f",
   "metadata": {},
   "outputs": [
    {
     "name": "stdout",
     "output_type": "stream",
     "text": [
      "<class 'list'>\n",
      "[1, 2, 3]\n",
      "<class 'tuple'>\n",
      "(1, 2, 3)\n"
     ]
    }
   ],
   "source": [
    "#튜플\n",
    "#값을 한번 저장하면 변경할수 없는 데이터 구조이다.\n",
    "#리스트와 마찬가지로 index번호가 부여된다.\n",
    "'''\n",
    "t = (값1,값2...)\n",
    "t = tuple(반복가능객체)\n",
    "'''\n",
    "li = [1,2,3]\n",
    "print(type(li))\n",
    "print(li)\n",
    "\n",
    "print(type(tuple(li)))\n",
    "tu=tuple(li)\n",
    "print(tu)\n",
    "#값을 하나만 보관할 때\n",
    "#소괄호는 없어도 콤마를 찍으면 튜플로 인식을 한다.\n",
    "t = 1,"
   ]
  },
  {
   "cell_type": "code",
   "execution_count": 20,
   "id": "8ce9e52e",
   "metadata": {},
   "outputs": [
    {
     "name": "stdout",
     "output_type": "stream",
     "text": [
      "<class 'dict'>\n",
      "[1, 2, 3, 4, 5, 6, 7, 8, 9]\n",
      "{40, 10, 20, 30}\n",
      "{390, 40, 10, 20, 30}\n",
      "{390, 40, 10, 30}\n"
     ]
    }
   ],
   "source": [
    "# 셋(set)\n",
    "#집합의 개념을 구현한 데이터 구조\n",
    "#index도 없고 순서도 없다.\n",
    "#인덱싱도 안되고 슬라이싱 안된다.\n",
    "# 중복되는 값이 들어가지 않는다.\n",
    "\n",
    "'''\n",
    "s = {값1,값2....}\n",
    "s = set(반복가능객체)\n",
    "'''\n",
    "\n",
    "#비어있는 set을 만들수 없다.\n",
    "s={} # dict\n",
    "print(type(s))\n",
    "\n",
    "li = [1,1,2,3,4,5,5,5,6,7,8,8,8,8,8,9]\n",
    "print(list(set(li)))\n",
    "\n",
    "#set에 요소의 추가와 삭제\n",
    "#추가 : add(value)\n",
    "\n",
    "s = {10,20,30}\n",
    "s.add(40)\n",
    "print(s)\n",
    "\n",
    "s.add(390)\n",
    "print(s)\n",
    "\n",
    "#삭제 : remove(value) -> 삭제 대상이 없으면 오류 발생\n",
    "#discard(value) -> 삭제 대상이 없어도 오류 발\n",
    "s.remove(20)\n",
    "print(s)\n",
    "\n"
   ]
  },
  {
   "cell_type": "code",
   "execution_count": 13,
   "id": "3321b7b6",
   "metadata": {},
   "outputs": [
    {
     "name": "stdout",
     "output_type": "stream",
     "text": [
      "<class 'dict'>\n",
      "banana\n",
      "{'a': 'apple', 'b': 'banana', 'w': 'watermelon'}\n",
      "{'a': 'hello', 'b': 'banana', 'w': 'watermelon'}\n",
      "{'name': 'james', 'age': 20}\n",
      "{'name': 'james', 'age': 25}\n",
      "{'name': 'james', 'age': 25, 'address': '인천'}\n",
      "{'name': 'james', 'age': 25}\n"
     ]
    }
   ],
   "source": [
    "#딕셔너리\n",
    "# 사전을 의미한다.\n",
    "# 하나의 데이터가 키(key), 값(value) 한쌍으로 이루어져 있다. \n",
    "\n",
    "'''\n",
    "dict={키1:값1, 키2:값2,...,...}\n",
    "'''\n",
    "# index가 존재하지 않는 대신 key를 인덱스처럼 사용한다. \n",
    "\n",
    "d={'a':'apple','b':'banana'}\n",
    "\n",
    "print(type(d))\n",
    "print(d['b'])\n",
    "\n",
    "# 딕셔너리에 요소 추가\n",
    "d['w']='watermelon'\n",
    "\n",
    "print(d)\n",
    "\n",
    "# 이미 있는 key에 value를 새롭게 집어넣으면 \n",
    "d['a']='hello'\n",
    "\n",
    "print(d)\n",
    "\n",
    "# setdefault(''key',value)를 통해 딕셔너리에 요소 추가하기 \n",
    "me={'name':'james'}\n",
    "\n",
    "me.setdefault('age',20)\n",
    "\n",
    "print(me)\n",
    "\n",
    "#update(key=value)\n",
    "me.update(age=25) #'age':25로 변경한다.\n",
    "\n",
    "print(me)\n",
    "\n",
    "#update() 를 통해 없는 key에 value를 추가하려고 하면 새로운 데이터가 추가된다.\n",
    "me.update(address='인천')\n",
    "\n",
    "print(me)\n",
    "\n",
    "#삭제 : pop(key)\n",
    "me.pop('address')\n",
    "\n",
    "print(me)"
   ]
  }
 ],
 "metadata": {
  "kernelspec": {
   "display_name": "Python 3 (ipykernel)",
   "language": "python",
   "name": "python3"
  },
  "language_info": {
   "codemirror_mode": {
    "name": "ipython",
    "version": 3
   },
   "file_extension": ".py",
   "mimetype": "text/x-python",
   "name": "python",
   "nbconvert_exporter": "python",
   "pygments_lexer": "ipython3",
   "version": "3.10.9"
  }
 },
 "nbformat": 4,
 "nbformat_minor": 5
}
