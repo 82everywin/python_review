{
 "cells": [
  {
   "cell_type": "markdown",
   "id": "0c9c063a",
   "metadata": {},
   "source": [
    "# 컬렉션(Collection)\n",
    "- 컬렉션이란 '모음'이라는 뜻으로 파이썬에서는 여러개의 값을 하나로 묶어서 관리하는 데이터 구조\n",
    "\n",
    "## 컬렉션의 종류\n",
    "1. 리스트 : list()\n",
    "    - 추가,수정,삭제가 언제든지 가능\n",
    "    - a = [1,2,3]    \n",
    "\n",
    "2. 튜플 : tuple()\n",
    "    - 생성되고 나면 삭제가 불가능\n",
    "    - a = (1,2,3)\n",
    "\n",
    "3. 셋 : set()\n",
    "    - 중복된 값의 저장이 불가능\n",
    "    - a = {1,2,3}\n",
    "    \n",
    "4. 딕셔너리 : dict()\n",
    "    - 키와 값으로 관리\n",
    "    - a = {'a':25}\n",
    "    \n",
    "### 컬렉션을 사용하는 이유\n",
    "- 사용해야 하는 변수가 많다면 변수의 이름을 짓는것도 쉽지않다.\n",
    "- 컬렉션을 사용해서 많은양의 데이터를 보다 쉽게 관리할 수 있다."
   ]
  },
  {
   "cell_type": "code",
   "execution_count": 8,
   "id": "9873cab3",
   "metadata": {},
   "outputs": [
    {
     "name": "stdout",
     "output_type": "stream",
     "text": [
      "100\n",
      "[10, 20, 30]\n",
      "[50, 40, 30, 100]\n",
      "[90, 50, 40, 30, 100]\n",
      "100\n",
      "90\n"
     ]
    }
   ],
   "source": [
    "#리스트\n",
    "#리스트는 가장 많이 사용되는 컬렉션\n",
    "#타입이 다르더라도 하나의 리스트에 저장이 가능하다.\n",
    "'''\n",
    "list = [값1,값2,값3...]\n",
    "lit = list(반복가능객체)\n",
    "'''\n",
    "\n",
    "li = [100, 3.14, 'hello']\n",
    "\n",
    "#indexing\n",
    "print(li[0])\n",
    "\n",
    "li = [10,20,30,40,50]\n",
    "#sclicing\n",
    "print(li[0:3])\n",
    "\n",
    "#리스트의 요소 추가와 삭제\n",
    "#추가 : append() 메서드\n",
    "\n",
    "scores = [50,40,30]\n",
    "scores.append(100) # 마지막요소로 100을 추가\n",
    "print(scores)\n",
    "\n",
    "# insert(index,value) 내가 원하는 index번호에 value를 넣는다.\n",
    "scores.insert(0,90)\n",
    "print(scores)\n",
    "\n",
    "\n",
    "#삭제 : pop() 메서드\n",
    "#pop() -> 맨 뒤의 요소를 삭제\n",
    "#pop(index) -> 해당 index번호의 요소를 삭제\n",
    "print(scores.pop())\n",
    "print(scores.pop(0))"
   ]
  },
  {
   "cell_type": "code",
   "execution_count": 10,
   "id": "442ab6fe",
   "metadata": {},
   "outputs": [
    {
     "name": "stdout",
     "output_type": "stream",
     "text": [
      "<class 'tuple'>\n"
     ]
    }
   ],
   "source": [
    "#튜플\n",
    "#값을 한번 저장하면 변경할수 없는 데이터 구조이다.\n",
    "#리스트와 마찬가지로 index번호가 부여된다.\n",
    "'''\n",
    "t = (값1,값2...)\n",
    "t = tuple(반복가능객체)\n",
    "'''\n",
    "li = [1,2,3]\n",
    "\n",
    "print(type(tuple(li)))\n",
    "\n",
    "#값을 하나만 보관할 때\n",
    "#소괄호는 없어도 콤마를 찍으면 튜플로 인식을 한다.\n",
    "t = 1,"
   ]
  },
  {
   "cell_type": "code",
   "execution_count": 20,
   "id": "1164413a",
   "metadata": {},
   "outputs": [
    {
     "name": "stdout",
     "output_type": "stream",
     "text": [
      "<class 'dict'>\n",
      "[1, 2, 3, 4, 5, 6, 7, 8, 9]\n",
      "{40, 10, 20, 30}\n",
      "{40, 10, 30}\n",
      "{40, 10}\n"
     ]
    }
   ],
   "source": [
    "# 셋(set)\n",
    "#집합의 개념을 구현한 데이터 구조\n",
    "#index도 없고 순서도 없다.\n",
    "#인덱싱도 안되고 슬라이싱 안된다.\n",
    "# 중복되는 값이 들어가지 않는다.\n",
    "\n",
    "'''\n",
    "s = {값1,값2....}\n",
    "s = set(반복가능객체)\n",
    "'''\n",
    "\n",
    "#비어있는 set을 만들수 없다.\n",
    "s={} # dict\n",
    "print(type(s))\n",
    "\n",
    "li = [1,1,2,3,4,5,5,5,6,7,8,8,8,8,8,9]\n",
    "print(list(set(li)))\n",
    "\n",
    "#set에 요소의 추가와 삭제\n",
    "#추가 : add(value)\n",
    "\n",
    "s = {10,20,30}\n",
    "s.add(40)\n",
    "print(s)\n",
    "\n",
    "#삭제 : remove(value) -> 삭제 대상이 없으면 오류 발생\n",
    "#discard(value) -> 삭제 대상이 없어도 오류 발생 X\n",
    "s.remove(20)\n",
    "print(s)\n",
    "s.discard(30)\n",
    "print(s)\n",
    "\n"
   ]
  }
 ],
 "metadata": {
  "kernelspec": {
   "display_name": "Python 3 (ipykernel)",
   "language": "python",
   "name": "python3"
  },
  "language_info": {
   "codemirror_mode": {
    "name": "ipython",
    "version": 3
   },
   "file_extension": ".py",
   "mimetype": "text/x-python",
   "name": "python",
   "nbconvert_exporter": "python",
   "pygments_lexer": "ipython3",
   "version": "3.10.9"
  }
 },
 "nbformat": 4,
 "nbformat_minor": 5
}
