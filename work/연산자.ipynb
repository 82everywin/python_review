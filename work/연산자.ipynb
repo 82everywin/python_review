{
 "cells": [
  {
   "cell_type": "markdown",
   "id": "8ed1081b",
   "metadata": {},
   "source": [
    "# 연산자\n",
    "- 연산자(Operate)란 특정한 작업을 수행하기 위해서 사용하는 기호를 의미합니다.\n",
    "- 연산에서 사용되는 항목의 개수에 따라 단항, 이항, 삼항 연산자로 구분할 수 있고, \n",
    "- 사용 목적에 따라 산술, 대입, 관계, 논리 연산자로 구분할 수도 있다. \n",
    "\n",
    "## 연산자의 종류\n",
    "- 산술연산자 : + - * /(나누기) //(몫) %(나머지)\n",
    "- 대입연산자 : = += -= *= /= //= %=\n",
    "- 관계연산자 : > < >= <= == !=\n",
    "- 논리연산자 : and(&) or(|) not(!)\n",
    "- 비트연산자 :  & | ^ ~ << >>\n",
    "- 삼항연산자 : 참 if 조건식 else 거짓 \n",
    "- 기타연산자 : in + *\n",
    "\n",
    "## 연산자의 우선순위 \n",
    "- 먼저 처리하고 싶은 연산이 있으면 ()를 이용하자\n",
    "\n",
    "1. 컬렉션 : 리스트, 튜플, 집합, 딕셔너리\n",
    "2. 인덱싱(a[0]), 슬라이싱(a[1:3]), 객체값( a.name)\n",
    "3. 거듭제곱(\\**) : \\*\\*\n",
    "4. 양의 부호(+), 음의 부호(-)\n",
    "5. 산술연산자(*,/,//,%)\n",
    "6. 산술연산자(+,-)\n",
    "7. 관계연산자(<,>,<=,>=,!=,==)\n",
    "8. 논리연산자(not(!))\n",
    "9. 논리연산자(and(&))\n",
    "10. 논리연산자(or(|))\n",
    "11. 삼항연산자( 참 if 조건식 else 거짓)"
   ]
  },
  {
   "cell_type": "code",
   "execution_count": 2,
   "id": "41f3b2e4",
   "metadata": {},
   "outputs": [
    {
     "name": "stdout",
     "output_type": "stream",
     "text": [
      "7+2=9\n",
      "7-2=5\n",
      "7*2=14\n",
      "7/2=3.5\n",
      "7//2=3\n",
      "7%2=1\n"
     ]
    }
   ],
   "source": [
    "# 산술연산자\n",
    "# + - * / // % **\n",
    "\n",
    "a=7\n",
    "b=2\n",
    "\n",
    "print(f'{a}+{b}={a+b}')\n",
    "print(f'{a}-{b}={a-b}')\n",
    "print(f'{a}*{b}={a*b}') #14\n",
    "print(f'{a}/{b}={a/b}') #3.5\n",
    "print(f'{a}//{b}={a//b}') #3\n",
    "print(f'{a}%{b}={a%b}') #1 # 나머지는 정수반환 \n",
    "\n",
    "# 홀짝 구분 : 2 로 나눈 나머지 있으면 홀수 , 없으면 짝수 \n",
    "# N % 2 =1 이면 홀수 \n",
    "# N % 2 =0 이면 짝수\n",
    "\n",
    "# 배수 구분 ( ex) N의 배수인지 판별)\n",
    "\n",
    "# X % N -> 나머지가 0이면 N의 배수\n",
    "# X % N -> 나머지가 0보다 크면 N의 배수가 아님. \n",
    "\n"
   ]
  }
 ],
 "metadata": {
  "kernelspec": {
   "display_name": "Python 3 (ipykernel)",
   "language": "python",
   "name": "python3"
  },
  "language_info": {
   "codemirror_mode": {
    "name": "ipython",
    "version": 3
   },
   "file_extension": ".py",
   "mimetype": "text/x-python",
   "name": "python",
   "nbconvert_exporter": "python",
   "pygments_lexer": "ipython3",
   "version": "3.10.9"
  }
 },
 "nbformat": 4,
 "nbformat_minor": 5
}
