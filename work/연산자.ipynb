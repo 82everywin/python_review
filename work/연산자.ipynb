{
 "cells": [
  {
   "cell_type": "markdown",
   "id": "8ed1081b",
   "metadata": {},
   "source": [
    "# 연산자\n",
    "- 연산자(Operate)란 특정한 작업을 수행하기 위해서 사용하는 기호를 의미합니다.\n",
    "- 연산에서 사용되는 항목의 개수에 따라 단항, 이항, 삼항 연산자로 구분할 수 있고, \n",
    "- 사용 목적에 따라 산술, 대입, 관계, 논리 연산자로 구분할 수도 있다. \n",
    "\n",
    "## 연산자의 종류\n",
    "- 산술연산자 : + - * /(나누기) //(몫) %(나머지)\n",
    "- 대입연산자 : = += -= *= /= //= %=\n",
    "- 관계연산자 : > < >= <= == !=\n",
    "- 논리연산자 : and(&) or(|) not(!)\n",
    "- 비트연산자 :  & | ^ ~ << >>\n",
    "- 삼항연산자 : 참 if 조건식 else 거짓 \n",
    "- 기타연산자 : in + *\n",
    "\n",
    "## 연산자의 우선순위 \n",
    "- 먼저 처리하고 싶은 연산이 있으면 ()를 이용하자\n",
    "\n",
    "1. 컬렉션 : 리스트, 튜플, 집합, 딕셔너리\n",
    "2. 인덱싱(a[0]), 슬라이싱(a[1:3]), 객체값( a.name)\n",
    "3. 거듭제곱(\\**) : \\*\\*\n",
    "4. 양의 부호(+), 음의 부호(-)\n",
    "5. 산술연산자(*,/,//,%)\n",
    "6. 산술연산자(+,-)\n",
    "7. 관계연산자(<,>,<=,>=,!=,==)\n",
    "8. 논리연산자(not(!))\n",
    "9. 논리연산자(and(&))\n",
    "10. 논리연산자(or(|))\n",
    "11. 삼항연산자( 참 if 조건식 else 거짓)"
   ]
  },
  {
   "cell_type": "code",
   "execution_count": 2,
   "id": "41f3b2e4",
   "metadata": {
    "scrolled": true
   },
   "outputs": [
    {
     "name": "stdout",
     "output_type": "stream",
     "text": [
      "7+2=9\n",
      "7-2=5\n",
      "7*2=14\n",
      "7/2=3.5\n",
      "7//2=3\n",
      "7%2=1\n"
     ]
    }
   ],
   "source": [
    "# 산술연산자\n",
    "# + - * / // % **\n",
    "\n",
    "a=7\n",
    "b=2\n",
    "\n",
    "print(f'{a}+{b}={a+b}')\n",
    "print(f'{a}-{b}={a-b}')\n",
    "print(f'{a}*{b}={a*b}') #14\n",
    "print(f'{a}/{b}={a/b}') #3.5\n",
    "print(f'{a}//{b}={a//b}') #3\n",
    "print(f'{a}%{b}={a%b}') #1 # 나머지는 정수반환 \n",
    "\n",
    "# 홀짝 구분 : 2 로 나눈 나머지 있으면 홀수 , 없으면 짝수 \n",
    "# N % 2 =1 이면 홀수 \n",
    "# N % 2 =0 이면 짝수\n",
    "\n",
    "# 배수 구분 ( ex) N의 배수인지 판별)\n",
    "\n",
    "# X % N -> 나머지가 0이면 N의 배수\n",
    "# X % N -> 나머지가 0보다 크면 N의 배수가 아님. \n",
    "\n"
   ]
  },
  {
   "cell_type": "code",
   "execution_count": 2,
   "id": "527080e9",
   "metadata": {},
   "outputs": [
    {
     "name": "stdout",
     "output_type": "stream",
     "text": [
      "10,20\n",
      "20,10\n"
     ]
    }
   ],
   "source": [
    "# 대입 연산자\n",
    "# 변수에 값을 저장하기 위해서 사용하는 연산자\n",
    "a,b=10,20\n",
    "print(f'{a},{b}')\n",
    "\n",
    "a,b=b,a\n",
    "print(f'{a},{b}')"
   ]
  },
  {
   "cell_type": "code",
   "execution_count": 8,
   "id": "15cd47f5",
   "metadata": {},
   "outputs": [
    {
     "name": "stdout",
     "output_type": "stream",
     "text": [
      "저금통에 용돈 10000원을 넣었습니다.\n",
      "지금 저금통에 10000원이 있습니다.\n",
      "저금통에서 스낵비 2000원을 뺐습니다.\n",
      "지금 저금통에 8000원이 있습니다.\n"
     ]
    }
   ],
   "source": [
    "#복합대입 연산자 \n",
    "\n",
    "piggy_bank=0\n",
    "\n",
    "money=10000\n",
    "piggy_bank += money \n",
    "print(f'저금통에 용돈 {money}원을 넣었습니다.')\n",
    "print(f'지금 저금통에 {piggy_bank}원이 있습니다.')\n",
    "\n",
    "snack=2000\n",
    "piggy_bank -=snack\n",
    "print(f'저금통에서 스낵비 {snack}원을 뺐습니다.')\n",
    "print(f'지금 저금통에 {piggy_bank}원이 있습니다.')"
   ]
  },
  {
   "cell_type": "code",
   "execution_count": 9,
   "id": "7327b4a5",
   "metadata": {
    "scrolled": true
   },
   "outputs": [
    {
     "name": "stdout",
     "output_type": "stream",
     "text": [
      "15 >10 : True\n",
      "15 <10 : False\n",
      "15 >=10 : True\n",
      "15 == 10 : False\n",
      "15 != 10 : True\n"
     ]
    }
   ],
   "source": [
    "#관계 연산자\n",
    "# >,<,>=, <=, ==, != -> 결괏값 논리형으로 도출(true, false) /\n",
    "# 연산결과를 논리형 데이터로 돌려준다. \n",
    "\n",
    "a=15\n",
    "result =a>10\n",
    "print(f'{a} >10 : {result}')\n",
    "\n",
    "result=a<10\n",
    "print(f'{a} <10 : {result}')\n",
    "\n",
    "result=a>=10\n",
    "print(f'{a} >=10 : {result}')\n",
    "\n",
    "result = a==10\n",
    "print(f'{a} == 10 : {result}')\n",
    "\n",
    "result = a!=10\n",
    "print(f'{a} != 10 : {result}')"
   ]
  },
  {
   "cell_type": "code",
   "execution_count": 15,
   "id": "661ac60b",
   "metadata": {},
   "outputs": [
    {
     "name": "stdout",
     "output_type": "stream",
     "text": [
      "10>0 and 0>0 : False\n",
      "10>0 or 0>0: True\n",
      "not 10 : False\n",
      "not 0 : True\n"
     ]
    }
   ],
   "source": [
    "#논리 연산자\n",
    "# and \n",
    "# A and B \n",
    "# A와 B가 둘다 참이면 참(True)을 반환 // 아니면  거짓(False)반환\n",
    "# T and T -> T\n",
    "# T and F -> F\n",
    "# F and T -> F\n",
    "# F and F -> F\n",
    "\n",
    "# or\n",
    "# A or B\n",
    "# A와 B가 둘다 거짓이면 거짓(False)을 반환 // 아니면 참(True)반환\n",
    "# T or T -> T\n",
    "# T or F -> T\n",
    "# F or T -> T\n",
    "# F or F -> F\n",
    "\n",
    "# not \n",
    "# not A \n",
    "# A가 참이면 거짓으로, 거짓이면 참으로 바꿔주는 연산자 \n",
    "# not T -> F\n",
    "# not F -> T\n",
    "\n",
    "a=10 \n",
    "b=0\n",
    "result = a>0 and b>0\n",
    "print(f'{a}>0 and {b}>0 : {result}')\n",
    "\n",
    "result = a>0 or b>0\n",
    "print(f'{a}>0 or {b}>0: {result}')\n",
    "\n",
    "result= not a\n",
    "print(f'not {a} : {result}')\n",
    "\n",
    "result= not b\n",
    "print(f'not {b} : {result}')"
   ]
  },
  {
   "cell_type": "code",
   "execution_count": 26,
   "id": "832dad6e",
   "metadata": {},
   "outputs": [
    {
     "name": "stdout",
     "output_type": "stream",
     "text": [
      "a&b : 2\n",
      "a|b : 78\n",
      "a^b : 76\n",
      "~a : -11\n",
      "a<<1 : 20\n"
     ]
    }
   ],
   "source": [
    "#비트 연산자\n",
    "#값을 2진수로 변환한 다음 비트 단위로 연산을 연산을 수행하게 하는 연산자\n",
    "# & : a & b -> a 와 b 를 비트 and 처리\n",
    "# | : a | b -> a 와 b 를 비트 or 처리\n",
    "# ^ : a ^ b -> a 와 b 를 비트 xor 처리\n",
    "# ~ : ~a -> a를 비트 not 처리(보수 연산)\n",
    "# << : a << 2 -> a를 비트로 변환하여 왼쪽으로 2비트 이동\n",
    "\n",
    "a = 10 # 0000 1010\n",
    "b = 70 # 0100 0110\n",
    "\n",
    "print(f'a&b : {a & b}')\n",
    "print(f'a|b : {a | b}')\n",
    "print(f'a^b : {a ^ b}')\n",
    "print(f'~a : {~a}') #보수연산\n",
    "print(f'a<<1 : {a<<1}')"
   ]
  },
  {
   "cell_type": "code",
   "execution_count": 30,
   "id": "4786379d",
   "metadata": {},
   "outputs": [
    {
     "name": "stdout",
     "output_type": "stream",
     "text": [
      "hello world\n",
      "hello \n",
      "hello \n",
      "hello \n",
      "hello \n",
      "hello \n",
      "\n"
     ]
    }
   ],
   "source": [
    "# 시퀀스 연산자\n",
    "# 순서가 있는 데이터구조(리스트 ,튜플, range, 문자열)에서 사용할 수 있는 연산자\n",
    " \n",
    "print('hello'+' world') # 문자열 + 문자열은 가능\n",
    "# print('hello'+2) 문자열 + 정수는 불가능\n",
    "\n",
    "# * \n",
    "print('hello \\n'*5)"
   ]
  },
  {
   "cell_type": "code",
   "execution_count": 31,
   "id": "aa062f36",
   "metadata": {},
   "outputs": [
    {
     "name": "stdout",
     "output_type": "stream",
     "text": [
      "True\n"
     ]
    }
   ],
   "source": [
    "#멤버십 연산자\n",
    "#특정 데이터가 컬렉션(리스트, 문자열, 딕셔너리) 에 속해있는지 여부를 판단해주는 연산자\n",
    "#속해있으면 true, 속해있지 않으면 false\n",
    "\n",
    "# in\n",
    "print('h'in 'history')\n",
    "\n"
   ]
  },
  {
   "cell_type": "code",
   "execution_count": 44,
   "id": "3d99e503",
   "metadata": {},
   "outputs": [
    {
     "name": "stdout",
     "output_type": "stream",
     "text": [
      "10와 20의 차이는 10입니다.\n",
      "1번째 값을 입력해주세요>>7\n",
      "2번째 값을 입력해주세요>>10\n",
      "7과 10 중 더 큰 수는 10입니다.\n"
     ]
    }
   ],
   "source": [
    "# 삼항 연산자\n",
    "\n",
    "# 조건식(참,거짓으로 도출하는 식)\n",
    "\n",
    "# 참일 때 반환할 값 if 조건식 else 거짓일 때 반환할 값\n",
    "\n",
    "a=10\n",
    "b=20\n",
    " \n",
    "result = (a-b) if(a>=b) else (b-a)\n",
    "print(f'{a}와 {b}의 차이는 {result}입니다.')\n",
    "\n",
    "\n",
    "# 두개의 임의의 수를 입력받아서 더 큰수를 출력하세요\n",
    "# 예 7과 10 중 더 큰수는 10 입니다. \n",
    "\n",
    "a1 = int(input(\"1번째 값을 입력해주세요>>\"))\n",
    "a2 = int(input(\"2번째 값을 입력해주세요>>\"))\n",
    "\n",
    "result = a1 if (a1>a2) else a2 \n",
    "print(f'{a1}과 {a2} 중 더 큰 수는 {result}입니다.')"
   ]
  },
  {
   "cell_type": "code",
   "execution_count": 48,
   "id": "65eaed1d",
   "metadata": {},
   "outputs": [
    {
     "name": "stdout",
     "output_type": "stream",
     "text": [
      "10-99 사이의 숫자를 입력하세요 >>>45\n",
      "십의 자리 : 4\n",
      "일의 자리 : 5\n"
     ]
    }
   ],
   "source": [
    "### 응용문제\n",
    "# 임의의 두자리 정수(10-99)를 입력받아서 십의 자리와 일의 자리로 분리하여 출력하는 프로그램 구현 \n",
    "'''\n",
    "실행예\n",
    "\n",
    "10-99 사이의 숫자를 입력하세요 >>> 45\n",
    "십의 자리 : 4 \n",
    "일의 자리 : 5\n",
    "'''\n",
    "a=int(input(\"10-99 사이의 숫자를 입력하세요 >>>\"))\n",
    "\n",
    "t1 = a//10\n",
    "t2 = a % 10\n",
    "\n",
    "print(f'십의 자리 : {t1}')\n",
    "print(f'일의 자리 : {t2}')\n"
   ]
  },
  {
   "cell_type": "code",
   "execution_count": 59,
   "id": "81a664c5",
   "metadata": {},
   "outputs": [
    {
     "name": "stdout",
     "output_type": "stream",
     "text": [
      "4자리 사원번호를 입력하세요>>>1255\n",
      "근무시간은 오전입니다.\n"
     ]
    }
   ],
   "source": [
    "#네자리 정수로 구성된 사원번호를 기준으로 근무시간을 결정한다. \n",
    "#사원번호의 끝자리 숫자가 5이상이면 '오전' 아니면 '오후'를 출력하는 프로그램 구현하기\n",
    "\n",
    "'''\n",
    "실행예\n",
    "\n",
    "4자리 사원번호를 입력하세요>>>1255\n",
    "근무시간은 오전입니다.\n",
    "\n",
    "'''\n",
    "\n",
    "num=int(input('4자리 사원번호를 입력하세요>>>'))\n",
    "\n",
    "num%=10\n",
    "\n",
    "time='오전' if num>=5 else '오후'\n",
    "\n",
    "print(f'근무시간은 {time}입니다.') "
   ]
  },
  {
   "cell_type": "code",
   "execution_count": 64,
   "id": "e3bc1599",
   "metadata": {},
   "outputs": [
    {
     "name": "stdout",
     "output_type": "stream",
     "text": [
      "국어 점수를 입력하세요 >>>85\n",
      "영어 점수를 입력하세요 >>>83\n",
      "수학 점수를 입력하세요 >>>81\n",
      "평균은 83.0이고, 결과는 합격입니다.\n"
     ]
    }
   ],
   "source": [
    "# 국어, 수학, 영어 점수를 각각 입력받아서 평균을 구하고\n",
    "# 평균이 80점 이상이면 '합격', 아니면 '불합격'을 출력\n",
    "\n",
    "''' \n",
    "실행예\n",
    "\n",
    "국어 점수를 입력하세요>>> 85\n",
    "영어 점수를 입력하세요>>> 83\n",
    "수학 점수를 입력하세요>>> 81 \n",
    "평균은 83.0이고 , 결과는 합격입니다. \n",
    "'''\n",
    "\n",
    "kor=int(input(\"국어 점수를 입력하세요 >>>\"))\n",
    "eng=int(input(\"영어 점수를 입력하세요 >>>\"))\n",
    "math=int(input(\"수학 점수를 입력하세요 >>>\"))\n",
    "\n",
    "mvg=(kor+eng+math)/3\n",
    "\n",
    "\n",
    "res= '합격'if mvg>=80 else '불합격'\n",
    "\n",
    "print(f'평균은 {mvg}이고, 결과는 {res}입니다.')"
   ]
  },
  {
   "cell_type": "code",
   "execution_count": null,
   "id": "c3838e42",
   "metadata": {},
   "outputs": [],
   "source": []
  },
  {
   "cell_type": "code",
   "execution_count": null,
   "id": "99a1cd1f",
   "metadata": {},
   "outputs": [],
   "source": []
  }
 ],
 "metadata": {
  "kernelspec": {
   "display_name": "Python 3 (ipykernel)",
   "language": "python",
   "name": "python3"
  },
  "language_info": {
   "codemirror_mode": {
    "name": "ipython",
    "version": 3
   },
   "file_extension": ".py",
   "mimetype": "text/x-python",
   "name": "python",
   "nbconvert_exporter": "python",
   "pygments_lexer": "ipython3",
   "version": "3.10.9"
  }
 },
 "nbformat": 4,
 "nbformat_minor": 5
}
