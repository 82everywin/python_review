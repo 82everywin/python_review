{
 "cells": [
  {
   "cell_type": "markdown",
   "id": "e7fa62a1",
   "metadata": {},
   "source": [
    "# 사용자 정의 함수\n",
    "- 사용자가 직접 만든 함수\n",
    "- 내장함수의 종류가 많지만 모든 일은 내장함수로 처리할 수는 없다.\n",
    "- 개발자가 함수를 직접 만들어서 사용합니다."
   ]
  },
  {
   "cell_type": "code",
   "execution_count": 15,
   "id": "b07395eb",
   "metadata": {},
   "outputs": [
    {
     "name": "stdout",
     "output_type": "stream",
     "text": [
      "8\n",
      "5\n",
      "1 2 3 4 5 6 7 8 9 10 "
     ]
    },
    {
     "data": {
      "text/plain": [
       "55"
      ]
     },
     "execution_count": 15,
     "metadata": {},
     "output_type": "execute_result"
    }
   ],
   "source": [
    "# f(x)= 2x + 1\n",
    "\n",
    "# 수학에서의 함수 : input과 output이 존재\n",
    "# 프로그래밍에서의 함수 : input과 output이 존재하지 않을 수도 있다.\n",
    "\n",
    "'''\n",
    "기본형\n",
    "\n",
    "def 함수명(인자==파라미터==매개변수):\n",
    " 함수가 호출되면 실행될 명령\n",
    " 함수가 호출되면 실행될 명령\n",
    " 함수가 호출되면 실행될 명령\n",
    " 함수가 호출되면 실행될 명령\n",
    " \n",
    " return 반환값 \n",
    "'''\n",
    " \n",
    "# 함수의 호출\n",
    "# 함수명() -> print(), input()\n",
    "\n",
    "# 함수의 종류\n",
    "# 1. input O, output O \n",
    "# 2. input O, output X\n",
    "# 3. input X, output O\n",
    "# 4. input X, output X\n",
    "\n",
    "# 파라미터(input= 매개변수)이나 return(output)값이 없는 경우\n",
    "# 1. 외부에서 전달받을 값이 없으면 파라미터는 없어도 된다.\n",
    "# 2. 함수 내부에서 연산이 종료된 경우, return  값은 없어도 된다. (return 값 생략)\n",
    "\n",
    "\n",
    "\n",
    "# f(X)= 2x + 1\n",
    "\n",
    "def f(x) : \n",
    "    return 2*x+1\n",
    "\n",
    "f(3)\n",
    "\n",
    "# 두 수를 더하는 함수를 작성하고 함수를 호출하여 임의의 두 수를 더하고 출력하세요.\n",
    " \n",
    "def add(x,y):\n",
    "    return x+y\n",
    "\n",
    "print(add(3,5))\n",
    "print(add(1,4))\n",
    "\n",
    "# 1-10까지 출력하는 함수를 만들고 함수 호출하기 \n",
    "\n",
    "def oneToTen():\n",
    "    for i in range(1,11):\n",
    "        print(i,end=' ')\n",
    "\n",
    "oneToTen()\n",
    "\n",
    "# 1-10까지 총합을 구하는 함수 만들고 호출하기\n",
    "\n",
    "def sum():\n",
    "    s=0\n",
    "    for i in range(1,11):\n",
    "        s+=i\n",
    "    return s\n",
    "\n",
    "sum()\n",
    "    \n"
   ]
  },
  {
   "cell_type": "code",
   "execution_count": 20,
   "id": "0ed3556c",
   "metadata": {},
   "outputs": [
    {
     "name": "stdout",
     "output_type": "stream",
     "text": [
      "임의의 값 입력 >>>10\n",
      "총합 : 55\n"
     ]
    }
   ],
   "source": [
    "# 함수를 호출할 때 임의의 값을 하나 전달하여 1 ~ N까지의 총합을 구하는 함수 만들기\n",
    "\n",
    "def f(x):\n",
    "    total=0\n",
    "    for i in range(1,x+1):\n",
    "        total+=i\n",
    "    return total\n",
    "\n",
    "x=int(input('임의의 값 입력 >>>'))\n",
    "\n",
    "print(f'총합 : {f(x)}')    "
   ]
  },
  {
   "cell_type": "code",
   "execution_count": 21,
   "id": "7214b72e",
   "metadata": {},
   "outputs": [
    {
     "name": "stdout",
     "output_type": "stream",
     "text": [
      "3 × 1 = 3\n",
      "3 × 2 = 6\n",
      "3 × 3 = 9\n",
      "3 × 4 = 12\n",
      "3 × 5 = 15\n",
      "3 × 6 = 18\n",
      "3 × 7 = 21\n",
      "3 × 8 = 24\n",
      "3 × 9 = 27\n"
     ]
    }
   ],
   "source": [
    "# 구구단을 구하는 함수를 만들어서 임의의 값을 전달했을 때 해당 수의 구구단을 출력하기\n",
    "\n",
    "def gu(n):\n",
    "    for i in range(1,10):\n",
    "        print(f'{n} × {i} = {n*i}')\n",
    "\n",
    "gu(3)"
   ]
  },
  {
   "cell_type": "code",
   "execution_count": 30,
   "id": "b22d8e2d",
   "metadata": {},
   "outputs": [
    {
     "name": "stdout",
     "output_type": "stream",
     "text": [
      "최영수님, 안녕하세요\n",
      "한현승님, 반갑습니다\n"
     ]
    }
   ],
   "source": [
    "# 디폴트 매개변수\n",
    "# 매개변수로 전달되는 인수가 없는 경우에 기본적으로 사용할 수 있도록 매개변수에 \n",
    "# 기본값을 설정할 수 있습니다. \n",
    "\n",
    "# 디폴트 매개변수를 사용할 때의 주의점\n",
    "# 매개변수가 여러개일때 디폴트 매개변수가 첫번째로 올 수 없다.\n",
    "\n",
    "def  greet(name,message=\"안녕하세요\"):\n",
    "    print(f'{name}님, {message}')\n",
    "    \n",
    "greet('최영수')\n",
    "\n",
    "greet('한현승','반갑습니다')"
   ]
  },
  {
   "cell_type": "code",
   "execution_count": 36,
   "id": "6c9d32b6",
   "metadata": {},
   "outputs": [
    {
     "name": "stdout",
     "output_type": "stream",
     "text": [
      "2\n",
      "1\n",
      "1\n"
     ]
    }
   ],
   "source": [
    "# 지역변수와 전역변수\n",
    "# 함수 바깥에서 사용하는 변수는 전역변수(global variable)라고 합니다.\n",
    "# 함수 내부에서 사용하는 변수는 지역변수(global variable)라고 합니다.\n",
    "\n",
    "# 전역변수의 경우 별도의 처리를 하지 않으면 함수 내부에서 사용할 수 없습니다. \n",
    "# 지역변수 또한 외부에서 사용할 수 없습니다.\n",
    "\n",
    "count=2 # 전역변수\n",
    "\n",
    "def count_func():\n",
    "    global count; # 함수 안에서 전역변수 count를 사용하기 위해 선언\n",
    "    count = 1 # 지역변수\n",
    "    return count\n",
    "\n",
    "print(count)\n",
    "print(count_func())\n",
    "print(count)"
   ]
  },
  {
   "cell_type": "code",
   "execution_count": 55,
   "id": "21a9fa4b",
   "metadata": {},
   "outputs": [
    {
     "name": "stdout",
     "output_type": "stream",
     "text": [
      "음료수 : 0잔, 잔돈 : 4000원  \n",
      "음료수 : 1잔, 잔돈 : 3300원  \n",
      "음료수 : 2잔, 잔돈 : 2600원  \n",
      "음료수 : 3잔, 잔돈 : 1900원  \n",
      "음료수 : 4잔, 잔돈 : 1200원  \n",
      "음료수 : 5잔, 잔돈 : 500원  \n"
     ]
    }
   ],
   "source": [
    "# 700원짜리 음료수를 뽑을 수 있는 자판기 프로그램을 구현하세요\n",
    "# 돈을 넣으면 몇 잔의 음료수를 뽑을 수 있는지 그리고 잔돈은 얼마인지\n",
    "# 모든 경우의 수를 출력하도록 구현하세요\n",
    "'''\n",
    "함수 정의\n",
    "- 반환값 없음\n",
    "- 함수명 : vending_machine()\n",
    "- 매개변수 : 정수 money\n",
    "\n",
    "코드 구성\n",
    "def vending_machine():\n",
    "    # 함수 구현\n",
    "\n",
    "vending_machine(3000)\n",
    "'''\n",
    "\n",
    "def vending_machine(money):\n",
    "    i=0\n",
    "    while True:\n",
    "        print(f'음료수 : {i}잔, 잔돈 : {money}원  ')\n",
    "        if(money<700) :\n",
    "            break\n",
    "        money -=700\n",
    "        i+=1\n",
    "        \n",
    "       \n",
    "\n",
    "vending_machine(4000)\n",
    "        "
   ]
  },
  {
   "cell_type": "code",
   "execution_count": 66,
   "id": "1fe69d45",
   "metadata": {},
   "outputs": [
    {
     "name": "stdout",
     "output_type": "stream",
     "text": [
      "평균은 85.0점 입니다.\n"
     ]
    }
   ],
   "source": [
    "# 키(key)가 '과목명', 값(value)이 '점수'인 \n",
    "#  딕셔너리에 사용한 점수들의 평균을 반환하는 get_average()함수를 구현하세요\n",
    "\n",
    "'''\n",
    "함수 정의\n",
    "- 반환값 없음\n",
    "- 함수 이름 : get_average()\n",
    "- 매개변수 : 딕셔너리 marks\n",
    "\n",
    "코드 구성 \n",
    "def get_average(marks):\n",
    "    # 함수 구현\n",
    "\n",
    "marks={'국어':90.'영어':80,'수학':85}\n",
    "average=get_average()\n",
    "print(f'평균은 {average}점 입니다.')\n",
    "'''\n",
    "\n",
    "def get_average(marks):\n",
    "    total=0\n",
    "    for i in marks:\n",
    "        total+=marks[i]\n",
    "    avg=total/len(marks)\n",
    "    return avg\n",
    "\n",
    "marks={'국어':90,'영어':80,'수학':85}\n",
    "average=get_average(marks)\n",
    "print(f'평균은 {average}점 입니다.')"
   ]
  }
 ],
 "metadata": {
  "kernelspec": {
   "display_name": "Python 3 (ipykernel)",
   "language": "python",
   "name": "python3"
  },
  "language_info": {
   "codemirror_mode": {
    "name": "ipython",
    "version": 3
   },
   "file_extension": ".py",
   "mimetype": "text/x-python",
   "name": "python",
   "nbconvert_exporter": "python",
   "pygments_lexer": "ipython3",
   "version": "3.10.9"
  }
 },
 "nbformat": 4,
 "nbformat_minor": 5
}
