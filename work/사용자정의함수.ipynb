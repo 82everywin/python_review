{
 "cells": [
  {
   "cell_type": "markdown",
   "id": "1cc3de80",
   "metadata": {},
   "source": [
    "# 사용자 정의 함수\n",
    "- 사용자가 직접 만든 함수\n",
    "- 내장함수의 종류가 많지만 모든 일은 내장함수로 처리할 수는 없다.\n",
    "- 개발자가 함수를 직접 만들어서 사용합니다."
   ]
  },
  {
   "cell_type": "code",
   "execution_count": null,
   "id": "a573a0aa",
   "metadata": {},
   "outputs": [],
   "source": []
  }
 ],
 "metadata": {
  "kernelspec": {
   "display_name": "Python 3 (ipykernel)",
   "language": "python",
   "name": "python3"
  },
  "language_info": {
   "codemirror_mode": {
    "name": "ipython",
    "version": 3
   },
   "file_extension": ".py",
   "mimetype": "text/x-python",
   "name": "python",
   "nbconvert_exporter": "python",
   "pygments_lexer": "ipython3",
   "version": "3.10.9"
  }
 },
 "nbformat": 4,
 "nbformat_minor": 5
}
